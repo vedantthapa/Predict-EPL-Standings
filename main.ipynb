{
 "cells": [
  {
   "cell_type": "markdown",
   "metadata": {
    "ExecuteTime": {
     "end_time": "2021-11-10T01:57:22.521538Z",
     "start_time": "2021-11-10T01:57:22.518722Z"
    }
   },
   "source": [
    "## Predicting the English Premier League table using statistical modelling."
   ]
  },
  {
   "cell_type": "markdown",
   "metadata": {},
   "source": [
    "This project attempts to determine whether goal scoring in the premier league can be modelled by a poisson process. A simple Poisson model is a good starting point to model the number of goals scored in a match in a 90-min game. Later, we will use this to simulate an entire season using on the data from 2005-2020 seasons. \n",
    "\n",
    "The data for this project is scraped from [football-data.co.uk](https://www.football-data.co.uk) which contains information for each game since 1993/94 season."
   ]
  },
  {
   "cell_type": "code",
   "execution_count": 1,
   "metadata": {
    "ExecuteTime": {
     "end_time": "2021-11-25T14:39:33.476313Z",
     "start_time": "2021-11-25T14:39:31.633444Z"
    }
   },
   "outputs": [],
   "source": [
    "import sys\n",
    "import re\n",
    "import pandas as pd\n",
    "import seaborn as sns\n",
    "import matplotlib.pyplot as plt\n",
    "import numpy as np\n",
    "import statsmodels.api as sm\n",
    "import statsmodels.formula.api as smf\n",
    "\n",
    "from scipy.stats import poisson\n",
    "from tqdm.notebook import tqdm"
   ]
  },
  {
   "cell_type": "code",
   "execution_count": 2,
   "metadata": {
    "ExecuteTime": {
     "end_time": "2021-11-25T14:39:33.479322Z",
     "start_time": "2021-11-25T14:39:33.477221Z"
    }
   },
   "outputs": [],
   "source": [
    "def display_all(df):\n",
    "    with pd.option_context('display.max_rows', 100, 'display.max_columns', 100):\n",
    "        display(df)"
   ]
  },
  {
   "cell_type": "code",
   "execution_count": 55,
   "metadata": {
    "ExecuteTime": {
     "end_time": "2021-11-25T16:23:43.439809Z",
     "start_time": "2021-11-25T16:23:43.370261Z"
    }
   },
   "outputs": [
    {
     "name": "stderr",
     "output_type": "stream",
     "text": [
      "/opt/homebrew/Caskroom/miniforge/base/lib/python3.9/site-packages/IPython/core/interactiveshell.py:3444: DtypeWarning: Columns (78) have mixed types.Specify dtype option on import or set low_memory=False.\n",
      "  exec(code_obj, self.user_global_ns, self.user_ns)\n"
     ]
    },
    {
     "data": {
      "text/plain": [
       "(5701, 140)"
      ]
     },
     "execution_count": 55,
     "metadata": {},
     "output_type": "execute_result"
    }
   ],
   "source": [
    "epl = pd.read_csv('data/epl_05-20.csv')\n",
    "epl.shape"
   ]
  },
  {
   "cell_type": "markdown",
   "metadata": {},
   "source": [
    "Here is a snapshot of the data"
   ]
  },
  {
   "cell_type": "code",
   "execution_count": 56,
   "metadata": {
    "ExecuteTime": {
     "end_time": "2021-11-25T16:23:44.339164Z",
     "start_time": "2021-11-25T16:23:44.310764Z"
    }
   },
   "outputs": [
    {
     "data": {
      "text/html": [
       "<div>\n",
       "<style scoped>\n",
       "    .dataframe tbody tr th:only-of-type {\n",
       "        vertical-align: middle;\n",
       "    }\n",
       "\n",
       "    .dataframe tbody tr th {\n",
       "        vertical-align: top;\n",
       "    }\n",
       "\n",
       "    .dataframe thead th {\n",
       "        text-align: right;\n",
       "    }\n",
       "</style>\n",
       "<table border=\"1\" class=\"dataframe\">\n",
       "  <thead>\n",
       "    <tr style=\"text-align: right;\">\n",
       "      <th></th>\n",
       "      <th>Div</th>\n",
       "      <th>season</th>\n",
       "      <th>Date</th>\n",
       "      <th>HomeTeam</th>\n",
       "      <th>AwayTeam</th>\n",
       "      <th>FTHG</th>\n",
       "      <th>FTAG</th>\n",
       "      <th>FTR</th>\n",
       "      <th>HTHG</th>\n",
       "      <th>HTAG</th>\n",
       "      <th>...</th>\n",
       "      <th>AvgC&lt;2.5</th>\n",
       "      <th>AHCh</th>\n",
       "      <th>B365CAHH</th>\n",
       "      <th>B365CAHA</th>\n",
       "      <th>PCAHH</th>\n",
       "      <th>PCAHA</th>\n",
       "      <th>MaxCAHH</th>\n",
       "      <th>MaxCAHA</th>\n",
       "      <th>AvgCAHH</th>\n",
       "      <th>AvgCAHA</th>\n",
       "    </tr>\n",
       "  </thead>\n",
       "  <tbody>\n",
       "    <tr>\n",
       "      <th>5698</th>\n",
       "      <td>E0</td>\n",
       "      <td>1920</td>\n",
       "      <td>26/07/2020</td>\n",
       "      <td>Newcastle</td>\n",
       "      <td>Liverpool</td>\n",
       "      <td>1.0</td>\n",
       "      <td>3.0</td>\n",
       "      <td>A</td>\n",
       "      <td>1.0</td>\n",
       "      <td>1.0</td>\n",
       "      <td>...</td>\n",
       "      <td>2.40</td>\n",
       "      <td>1.0</td>\n",
       "      <td>1.94</td>\n",
       "      <td>1.96</td>\n",
       "      <td>1.95</td>\n",
       "      <td>1.97</td>\n",
       "      <td>2.03</td>\n",
       "      <td>2.00</td>\n",
       "      <td>1.95</td>\n",
       "      <td>1.92</td>\n",
       "    </tr>\n",
       "    <tr>\n",
       "      <th>5699</th>\n",
       "      <td>E0</td>\n",
       "      <td>1920</td>\n",
       "      <td>26/07/2020</td>\n",
       "      <td>Southampton</td>\n",
       "      <td>Sheffield United</td>\n",
       "      <td>3.0</td>\n",
       "      <td>1.0</td>\n",
       "      <td>H</td>\n",
       "      <td>0.0</td>\n",
       "      <td>1.0</td>\n",
       "      <td>...</td>\n",
       "      <td>2.01</td>\n",
       "      <td>-0.5</td>\n",
       "      <td>1.97</td>\n",
       "      <td>1.93</td>\n",
       "      <td>2.00</td>\n",
       "      <td>1.93</td>\n",
       "      <td>2.03</td>\n",
       "      <td>1.96</td>\n",
       "      <td>1.98</td>\n",
       "      <td>1.89</td>\n",
       "    </tr>\n",
       "    <tr>\n",
       "      <th>5700</th>\n",
       "      <td>E0</td>\n",
       "      <td>1920</td>\n",
       "      <td>26/07/2020</td>\n",
       "      <td>West Ham</td>\n",
       "      <td>Aston Villa</td>\n",
       "      <td>1.0</td>\n",
       "      <td>1.0</td>\n",
       "      <td>D</td>\n",
       "      <td>0.0</td>\n",
       "      <td>0.0</td>\n",
       "      <td>...</td>\n",
       "      <td>2.03</td>\n",
       "      <td>0.0</td>\n",
       "      <td>1.93</td>\n",
       "      <td>1.97</td>\n",
       "      <td>1.95</td>\n",
       "      <td>1.98</td>\n",
       "      <td>1.99</td>\n",
       "      <td>2.00</td>\n",
       "      <td>1.93</td>\n",
       "      <td>1.95</td>\n",
       "    </tr>\n",
       "  </tbody>\n",
       "</table>\n",
       "<p>3 rows × 140 columns</p>\n",
       "</div>"
      ],
      "text/plain": [
       "     Div  season        Date     HomeTeam          AwayTeam  FTHG  FTAG FTR  \\\n",
       "5698  E0    1920  26/07/2020    Newcastle         Liverpool   1.0   3.0   A   \n",
       "5699  E0    1920  26/07/2020  Southampton  Sheffield United   3.0   1.0   H   \n",
       "5700  E0    1920  26/07/2020     West Ham       Aston Villa   1.0   1.0   D   \n",
       "\n",
       "      HTHG  HTAG  ... AvgC<2.5 AHCh  B365CAHH  B365CAHA  PCAHH  PCAHA  \\\n",
       "5698   1.0   1.0  ...     2.40  1.0      1.94      1.96   1.95   1.97   \n",
       "5699   0.0   1.0  ...     2.01 -0.5      1.97      1.93   2.00   1.93   \n",
       "5700   0.0   0.0  ...     2.03  0.0      1.93      1.97   1.95   1.98   \n",
       "\n",
       "      MaxCAHH  MaxCAHA  AvgCAHH  AvgCAHA  \n",
       "5698     2.03     2.00     1.95     1.92  \n",
       "5699     2.03     1.96     1.98     1.89  \n",
       "5700     1.99     2.00     1.93     1.95  \n",
       "\n",
       "[3 rows x 140 columns]"
      ]
     },
     "execution_count": 56,
     "metadata": {},
     "output_type": "execute_result"
    }
   ],
   "source": [
    "epl.tail(3)"
   ]
  },
  {
   "cell_type": "code",
   "execution_count": 57,
   "metadata": {
    "ExecuteTime": {
     "end_time": "2021-11-25T16:23:56.194603Z",
     "start_time": "2021-11-25T16:23:56.189409Z"
    }
   },
   "outputs": [],
   "source": [
    "epl_full = epl.copy(deep=True)"
   ]
  },
  {
   "cell_type": "markdown",
   "metadata": {},
   "source": [
    "For this project we only need 5 columns starting from the `Date` field. Therefore, let's get rid of the unwanted columns and rename them so that is is easier to index these columns."
   ]
  },
  {
   "cell_type": "code",
   "execution_count": 58,
   "metadata": {
    "ExecuteTime": {
     "end_time": "2021-11-25T16:23:57.518494Z",
     "start_time": "2021-11-25T16:23:57.513858Z"
    }
   },
   "outputs": [],
   "source": [
    "# removing unncessary cols\n",
    "epl = epl.iloc[:, 1:7]"
   ]
  },
  {
   "cell_type": "code",
   "execution_count": 59,
   "metadata": {
    "ExecuteTime": {
     "end_time": "2021-11-25T16:24:03.157004Z",
     "start_time": "2021-11-25T16:24:03.152557Z"
    }
   },
   "outputs": [],
   "source": [
    "# rename cols\n",
    "epl.columns = [i.lower() for i in epl]\n",
    "epl.rename(columns={'fthg':'homegoals', 'ftag':'awaygoals'}, inplace=True)"
   ]
  },
  {
   "cell_type": "markdown",
   "metadata": {},
   "source": [
    "Let's have a look at the average number of home and away goals scored in each game."
   ]
  },
  {
   "cell_type": "code",
   "execution_count": 7,
   "metadata": {
    "ExecuteTime": {
     "end_time": "2021-11-25T14:39:33.557327Z",
     "start_time": "2021-11-25T14:39:33.548856Z"
    }
   },
   "outputs": [
    {
     "name": "stderr",
     "output_type": "stream",
     "text": [
      "/var/folders/z4/hdvs0wyx3hsgmt7j31w_d2w40000gn/T/ipykernel_1051/2645880612.py:2: FutureWarning: Dropping of nuisance columns in DataFrame reductions (with 'numeric_only=None') is deprecated; in a future version this will raise TypeError.  Select only valid columns before calling the reduction.\n",
      "  epl.mean()[1:]\n"
     ]
    },
    {
     "data": {
      "text/plain": [
       "homegoals    1.537544\n",
       "awaygoals    1.147544\n",
       "dtype: float64"
      ]
     },
     "execution_count": 7,
     "metadata": {},
     "output_type": "execute_result"
    }
   ],
   "source": [
    "# avg home vs away goals\n",
    "epl.mean()[1:]"
   ]
  },
  {
   "cell_type": "markdown",
   "metadata": {},
   "source": [
    "Well, this result should be intuitive to anyone who follows sports like Soccer, American football, Basketball, etc. as the team which plays at home is considered to have an advantage mainly due to the players familiarity and comfort with the environment and their fan's presence. "
   ]
  },
  {
   "cell_type": "markdown",
   "metadata": {},
   "source": [
    "Let's try to compare the actual number goals scored in a game to the goals calculated by the poisson process."
   ]
  },
  {
   "cell_type": "code",
   "execution_count": 124,
   "metadata": {
    "ExecuteTime": {
     "end_time": "2021-11-25T16:57:27.023764Z",
     "start_time": "2021-11-25T16:57:26.581528Z"
    }
   },
   "outputs": [
    {
     "name": "stderr",
     "output_type": "stream",
     "text": [
      "/var/folders/z4/hdvs0wyx3hsgmt7j31w_d2w40000gn/T/ipykernel_1051/856969210.py:1: FutureWarning: Dropping of nuisance columns in DataFrame reductions (with 'numeric_only=None') is deprecated; in a future version this will raise TypeError.  Select only valid columns before calling the reduction.\n",
      "  poisson_pred = np.column_stack([[poisson.pmf(i, epl.mean()[1:][j]) for i in range(9)] for j in range(2)])\n",
      "/opt/homebrew/Caskroom/miniforge/base/lib/python3.9/site-packages/seaborn/_decorators.py:36: FutureWarning: Pass the following variable as a keyword arg: x. From version 0.12, the only valid positional argument will be `data`, and passing other arguments without an explicit keyword will result in an error or misinterpretation.\n",
      "  warnings.warn(\n",
      "/opt/homebrew/Caskroom/miniforge/base/lib/python3.9/site-packages/seaborn/_decorators.py:36: FutureWarning: Pass the following variable as a keyword arg: x. From version 0.12, the only valid positional argument will be `data`, and passing other arguments without an explicit keyword will result in an error or misinterpretation.\n",
      "  warnings.warn(\n"
     ]
    },
    {
     "data": {
      "image/png": "[encoded data removed]",
      "text/plain": [
       "<Figure size 864x432 with 4 Axes>"
      ]
     },
     "metadata": {
      "needs_background": "light"
     },
     "output_type": "display_data"
    }
   ],
   "source": [
    "poisson_pred = np.column_stack([[poisson.pmf(i, epl.mean()[1:][j]) for i in range(9)] for j in range(2)])\n",
    "\n",
    "fig, ax = plt.subplots(1, 2, figsize=(12,6))\n",
    "\n",
    "sns.countplot(epl.homegoals, ax=ax[0], palette='Set2', edgecolor='black')\n",
    "ax1 = ax[0].twinx()\n",
    "ax1.plot(poisson_pred[:, 0], marker='o', linestyle='-', markersize=8, label='Poisson Home', color='brown')\n",
    "ax[0].set_xlabel('Goals', fontsize=15);\n",
    "ax[0].set_ylabel('Count', fontsize=15);\n",
    "plt.legend(frameon=False, fontsize=15);\n",
    "ax[0].set_title('Reality vs Poisson (Home)', fontsize=20)\n",
    "\n",
    "sns.countplot(epl.awaygoals, ax=ax[1], palette='Set2', edgecolor='black')\n",
    "ax2 = ax[1].twinx()\n",
    "ax2.plot(poisson_pred[:, 1], marker='o', linestyle='-', markersize=8, label='Poisson Away', color='blue')\n",
    "ax[1].set_xlabel('Goals', fontsize=15);\n",
    "ax[1].set_ylabel('Count', fontsize=15);\n",
    "plt.legend(frameon=False, fontsize=15);\n",
    "ax[1].set_title('Reality vs Poisson (Away)', fontsize=20);\n",
    "\n",
    "plt.tight_layout();\n",
    "\n",
    "plt.savefig('assets/reality-vs-poisson-fig1.jpeg', bbox_inches='tight')"
   ]
  },
  {
   "cell_type": "markdown",
   "metadata": {},
   "source": [
    "The poisson model fits the distribution very well, as shown in the figures above. Hopefully, we'll be able to adapt this method to simulate individual matches throughout the course of a season."
   ]
  },
  {
   "cell_type": "code",
   "execution_count": 9,
   "metadata": {
    "ExecuteTime": {
     "end_time": "2021-11-25T14:39:34.505063Z",
     "start_time": "2021-11-25T14:39:34.501892Z"
    }
   },
   "outputs": [],
   "source": [
    "def _get_team(team):\n",
    "    return re.findall('\\[(.*?)\\]', team)[0]\n",
    "\n",
    "\n",
    "def get_stats(model):\n",
    "    summary_df = model.summary()\n",
    "    results_html = summary_df.tables[1].as_html()\n",
    "    \n",
    "    summary_df = pd.read_html(results_html, header=0)[0]\n",
    "    summary_df.columns = ['team', 'coef', 'std_err', 'z', 'p-val', '0.025', '0.975']\n",
    "    summary_df.reset_index(drop=True, inplace=True)\n",
    "    \n",
    "    summary_df['rate'] = np.exp(summary_df.coef)\n",
    "    summary_df.team = summary_df.team.apply(_get_team)\n",
    "    \n",
    "    return summary_df[['team', 'rate']]"
   ]
  },
  {
   "cell_type": "markdown",
   "metadata": {},
   "source": [
    "We will now create poisson regression models and get the regression coefficients as each team's home and away scoring rates. Since, by default, statsmodels uses the team that comes first alphabetically as the reference group, we will replace the y-intercept term with 0. "
   ]
  },
  {
   "cell_type": "code",
   "execution_count": 10,
   "metadata": {
    "ExecuteTime": {
     "end_time": "2021-11-25T14:39:35.047269Z",
     "start_time": "2021-11-25T14:39:34.925628Z"
    }
   },
   "outputs": [
    {
     "data": {
      "text/html": [
       "<table class=\"simpletable\">\n",
       "<caption>Generalized Linear Model Regression Results</caption>\n",
       "<tr>\n",
       "  <th>Dep. Variable:</th>       <td>homegoals</td>    <th>  No. Observations:  </th>  <td>  5700</td> \n",
       "</tr>\n",
       "<tr>\n",
       "  <th>Model:</th>                  <td>GLM</td>       <th>  Df Residuals:      </th>  <td>  5661</td> \n",
       "</tr>\n",
       "<tr>\n",
       "  <th>Model Family:</th>         <td>Poisson</td>     <th>  Df Model:          </th>  <td>    38</td> \n",
       "</tr>\n",
       "<tr>\n",
       "  <th>Link Function:</th>          <td>log</td>       <th>  Scale:             </th> <td>  1.0000</td>\n",
       "</tr>\n",
       "<tr>\n",
       "  <th>Method:</th>                <td>IRLS</td>       <th>  Log-Likelihood:    </th> <td> -8746.5</td>\n",
       "</tr>\n",
       "<tr>\n",
       "  <th>Date:</th>            <td>Thu, 25 Nov 2021</td> <th>  Deviance:          </th> <td>  6561.9</td>\n",
       "</tr>\n",
       "<tr>\n",
       "  <th>Time:</th>                <td>10:39:35</td>     <th>  Pearson chi2:      </th> <td>5.72e+03</td>\n",
       "</tr>\n",
       "<tr>\n",
       "  <th>No. Iterations:</th>          <td>5</td>        <th>  Pseudo R-squ. (CS):</th>  <td>0.09657</td>\n",
       "</tr>\n",
       "<tr>\n",
       "  <th>Covariance Type:</th>     <td>nonrobust</td>    <th>                     </th>     <td> </td>   \n",
       "</tr>\n",
       "</table>\n",
       "<table class=\"simpletable\">\n",
       "<tr>\n",
       "               <td></td>                 <th>coef</th>     <th>std err</th>      <th>z</th>      <th>P>|z|</th>  <th>[0.025</th>    <th>0.975]</th>  \n",
       "</tr>\n",
       "<tr>\n",
       "  <th>hometeam[Arsenal]</th>          <td>    0.7527</td> <td>    0.041</td> <td>   18.515</td> <td> 0.000</td> <td>    0.673</td> <td>    0.832</td>\n",
       "</tr>\n",
       "<tr>\n",
       "  <th>hometeam[Aston Villa]</th>      <td>    0.1874</td> <td>    0.060</td> <td>    3.108</td> <td> 0.002</td> <td>    0.069</td> <td>    0.306</td>\n",
       "</tr>\n",
       "<tr>\n",
       "  <th>hometeam[Birmingham]</th>       <td>    0.1352</td> <td>    0.107</td> <td>    1.261</td> <td> 0.207</td> <td>   -0.075</td> <td>    0.345</td>\n",
       "</tr>\n",
       "<tr>\n",
       "  <th>hometeam[Blackburn]</th>        <td>    0.3354</td> <td>    0.073</td> <td>    4.574</td> <td> 0.000</td> <td>    0.192</td> <td>    0.479</td>\n",
       "</tr>\n",
       "<tr>\n",
       "  <th>hometeam[Blackpool]</th>        <td>    0.4568</td> <td>    0.183</td> <td>    2.502</td> <td> 0.012</td> <td>    0.099</td> <td>    0.815</td>\n",
       "</tr>\n",
       "<tr>\n",
       "  <th>hometeam[Bolton]</th>           <td>    0.3137</td> <td>    0.074</td> <td>    4.231</td> <td> 0.000</td> <td>    0.168</td> <td>    0.459</td>\n",
       "</tr>\n",
       "<tr>\n",
       "  <th>hometeam[Bournemouth]</th>      <td>    0.3588</td> <td>    0.086</td> <td>    4.184</td> <td> 0.000</td> <td>    0.191</td> <td>    0.527</td>\n",
       "</tr>\n",
       "<tr>\n",
       "  <th>hometeam[Brighton]</th>         <td>    0.1001</td> <td>    0.126</td> <td>    0.794</td> <td> 0.427</td> <td>   -0.147</td> <td>    0.347</td>\n",
       "</tr>\n",
       "<tr>\n",
       "  <th>hometeam[Burnley]</th>          <td>    0.1236</td> <td>    0.088</td> <td>    1.404</td> <td> 0.160</td> <td>   -0.049</td> <td>    0.296</td>\n",
       "</tr>\n",
       "<tr>\n",
       "  <th>hometeam[Cardiff]</th>          <td>    0.0760</td> <td>    0.156</td> <td>    0.487</td> <td> 0.627</td> <td>   -0.230</td> <td>    0.382</td>\n",
       "</tr>\n",
       "<tr>\n",
       "  <th>hometeam[Charlton]</th>         <td>    0.0760</td> <td>    0.156</td> <td>    0.487</td> <td> 0.627</td> <td>   -0.230</td> <td>    0.382</td>\n",
       "</tr>\n",
       "<tr>\n",
       "  <th>hometeam[Chelsea]</th>          <td>    0.7560</td> <td>    0.041</td> <td>   18.627</td> <td> 0.000</td> <td>    0.676</td> <td>    0.836</td>\n",
       "</tr>\n",
       "<tr>\n",
       "  <th>hometeam[Crystal Palace]</th>   <td>    0.0864</td> <td>    0.083</td> <td>    1.040</td> <td> 0.298</td> <td>   -0.076</td> <td>    0.249</td>\n",
       "</tr>\n",
       "<tr>\n",
       "  <th>hometeam[Derby]</th>            <td>   -0.4595</td> <td>    0.289</td> <td>   -1.592</td> <td> 0.111</td> <td>   -1.025</td> <td>    0.106</td>\n",
       "</tr>\n",
       "<tr>\n",
       "  <th>hometeam[Everton]</th>          <td>    0.5024</td> <td>    0.046</td> <td>   10.903</td> <td> 0.000</td> <td>    0.412</td> <td>    0.593</td>\n",
       "</tr>\n",
       "<tr>\n",
       "  <th>hometeam[Fulham]</th>           <td>    0.3365</td> <td>    0.061</td> <td>    5.488</td> <td> 0.000</td> <td>    0.216</td> <td>    0.457</td>\n",
       "</tr>\n",
       "<tr>\n",
       "  <th>hometeam[Huddersfield]</th>     <td>   -0.3795</td> <td>    0.196</td> <td>   -1.935</td> <td> 0.053</td> <td>   -0.764</td> <td>    0.005</td>\n",
       "</tr>\n",
       "<tr>\n",
       "  <th>hometeam[Hull]</th>             <td>    0.1190</td> <td>    0.097</td> <td>    1.230</td> <td> 0.219</td> <td>   -0.071</td> <td>    0.308</td>\n",
       "</tr>\n",
       "<tr>\n",
       "  <th>hometeam[Leicester]</th>        <td>    0.4456</td> <td>    0.075</td> <td>    5.945</td> <td> 0.000</td> <td>    0.299</td> <td>    0.592</td>\n",
       "</tr>\n",
       "<tr>\n",
       "  <th>hometeam[Liverpool]</th>        <td>    0.7527</td> <td>    0.041</td> <td>   18.515</td> <td> 0.000</td> <td>    0.673</td> <td>    0.832</td>\n",
       "</tr>\n",
       "<tr>\n",
       "  <th>hometeam[Man City]</th>         <td>    0.8105</td> <td>    0.039</td> <td>   20.521</td> <td> 0.000</td> <td>    0.733</td> <td>    0.888</td>\n",
       "</tr>\n",
       "<tr>\n",
       "  <th>hometeam[Man United]</th>       <td>    0.7527</td> <td>    0.041</td> <td>   18.515</td> <td> 0.000</td> <td>    0.673</td> <td>    0.832</td>\n",
       "</tr>\n",
       "<tr>\n",
       "  <th>hometeam[Middlesbrough]</th>    <td>    0.2336</td> <td>    0.091</td> <td>    2.559</td> <td> 0.010</td> <td>    0.055</td> <td>    0.413</td>\n",
       "</tr>\n",
       "<tr>\n",
       "  <th>hometeam[Newcastle]</th>        <td>    0.3196</td> <td>    0.054</td> <td>    5.892</td> <td> 0.000</td> <td>    0.213</td> <td>    0.426</td>\n",
       "</tr>\n",
       "<tr>\n",
       "  <th>hometeam[Norwich]</th>          <td>    0.1911</td> <td>    0.093</td> <td>    2.049</td> <td> 0.040</td> <td>    0.008</td> <td>    0.374</td>\n",
       "</tr>\n",
       "<tr>\n",
       "  <th>hometeam[Portsmouth]</th>       <td>    0.2252</td> <td>    0.092</td> <td>    2.457</td> <td> 0.014</td> <td>    0.046</td> <td>    0.405</td>\n",
       "</tr>\n",
       "<tr>\n",
       "  <th>hometeam[QPR]</th>              <td>    0.0513</td> <td>    0.129</td> <td>    0.397</td> <td> 0.691</td> <td>   -0.202</td> <td>    0.304</td>\n",
       "</tr>\n",
       "<tr>\n",
       "  <th>hometeam[Reading]</th>          <td>    0.2196</td> <td>    0.119</td> <td>    1.851</td> <td> 0.064</td> <td>   -0.013</td> <td>    0.452</td>\n",
       "</tr>\n",
       "<tr>\n",
       "  <th>hometeam[Sheffield United]</th> <td>    0.2336</td> <td>    0.144</td> <td>    1.619</td> <td> 0.106</td> <td>   -0.049</td> <td>    0.517</td>\n",
       "</tr>\n",
       "<tr>\n",
       "  <th>hometeam[Southampton]</th>      <td>    0.3652</td> <td>    0.068</td> <td>    5.404</td> <td> 0.000</td> <td>    0.233</td> <td>    0.498</td>\n",
       "</tr>\n",
       "<tr>\n",
       "  <th>hometeam[Stoke]</th>            <td>    0.2664</td> <td>    0.064</td> <td>    4.195</td> <td> 0.000</td> <td>    0.142</td> <td>    0.391</td>\n",
       "</tr>\n",
       "<tr>\n",
       "  <th>hometeam[Sunderland]</th>       <td>    0.1173</td> <td>    0.065</td> <td>    1.797</td> <td> 0.072</td> <td>   -0.011</td> <td>    0.245</td>\n",
       "</tr>\n",
       "<tr>\n",
       "  <th>hometeam[Swansea]</th>          <td>    0.2970</td> <td>    0.075</td> <td>    3.974</td> <td> 0.000</td> <td>    0.151</td> <td>    0.444</td>\n",
       "</tr>\n",
       "<tr>\n",
       "  <th>hometeam[Tottenham]</th>        <td>    0.6071</td> <td>    0.044</td> <td>   13.884</td> <td> 0.000</td> <td>    0.521</td> <td>    0.693</td>\n",
       "</tr>\n",
       "<tr>\n",
       "  <th>hometeam[Watford]</th>          <td>    0.1983</td> <td>    0.085</td> <td>    2.338</td> <td> 0.019</td> <td>    0.032</td> <td>    0.365</td>\n",
       "</tr>\n",
       "<tr>\n",
       "  <th>hometeam[West Brom]</th>        <td>    0.2583</td> <td>    0.064</td> <td>    4.051</td> <td> 0.000</td> <td>    0.133</td> <td>    0.383</td>\n",
       "</tr>\n",
       "<tr>\n",
       "  <th>hometeam[West Ham]</th>         <td>    0.3514</td> <td>    0.051</td> <td>    6.832</td> <td> 0.000</td> <td>    0.251</td> <td>    0.452</td>\n",
       "</tr>\n",
       "<tr>\n",
       "  <th>hometeam[Wigan]</th>            <td>    0.1060</td> <td>    0.077</td> <td>    1.378</td> <td> 0.168</td> <td>   -0.045</td> <td>    0.257</td>\n",
       "</tr>\n",
       "<tr>\n",
       "  <th>hometeam[Wolves]</th>           <td>    0.2083</td> <td>    0.092</td> <td>    2.253</td> <td> 0.024</td> <td>    0.027</td> <td>    0.389</td>\n",
       "</tr>\n",
       "</table>"
      ],
      "text/plain": [
       "<class 'statsmodels.iolib.summary.Summary'>\n",
       "\"\"\"\n",
       "                 Generalized Linear Model Regression Results                  \n",
       "==============================================================================\n",
       "Dep. Variable:              homegoals   No. Observations:                 5700\n",
       "Model:                            GLM   Df Residuals:                     5661\n",
       "Model Family:                 Poisson   Df Model:                           38\n",
       "Link Function:                    log   Scale:                          1.0000\n",
       "Method:                          IRLS   Log-Likelihood:                -8746.5\n",
       "Date:                Thu, 25 Nov 2021   Deviance:                       6561.9\n",
       "Time:                        10:39:35   Pearson chi2:                 5.72e+03\n",
       "No. Iterations:                     5   Pseudo R-squ. (CS):            0.09657\n",
       "Covariance Type:            nonrobust                                         \n",
       "==============================================================================================\n",
       "                                 coef    std err          z      P>|z|      [0.025      0.975]\n",
       "----------------------------------------------------------------------------------------------\n",
       "hometeam[Arsenal]              0.7527      0.041     18.515      0.000       0.673       0.832\n",
       "hometeam[Aston Villa]          0.1874      0.060      3.108      0.002       0.069       0.306\n",
       "hometeam[Birmingham]           0.1352      0.107      1.261      0.207      -0.075       0.345\n",
       "hometeam[Blackburn]            0.3354      0.073      4.574      0.000       0.192       0.479\n",
       "hometeam[Blackpool]            0.4568      0.183      2.502      0.012       0.099       0.815\n",
       "hometeam[Bolton]               0.3137      0.074      4.231      0.000       0.168       0.459\n",
       "hometeam[Bournemouth]          0.3588      0.086      4.184      0.000       0.191       0.527\n",
       "hometeam[Brighton]             0.1001      0.126      0.794      0.427      -0.147       0.347\n",
       "hometeam[Burnley]              0.1236      0.088      1.404      0.160      -0.049       0.296\n",
       "hometeam[Cardiff]              0.0760      0.156      0.487      0.627      -0.230       0.382\n",
       "hometeam[Charlton]             0.0760      0.156      0.487      0.627      -0.230       0.382\n",
       "hometeam[Chelsea]              0.7560      0.041     18.627      0.000       0.676       0.836\n",
       "hometeam[Crystal Palace]       0.0864      0.083      1.040      0.298      -0.076       0.249\n",
       "hometeam[Derby]               -0.4595      0.289     -1.592      0.111      -1.025       0.106\n",
       "hometeam[Everton]              0.5024      0.046     10.903      0.000       0.412       0.593\n",
       "hometeam[Fulham]               0.3365      0.061      5.488      0.000       0.216       0.457\n",
       "hometeam[Huddersfield]        -0.3795      0.196     -1.935      0.053      -0.764       0.005\n",
       "hometeam[Hull]                 0.1190      0.097      1.230      0.219      -0.071       0.308\n",
       "hometeam[Leicester]            0.4456      0.075      5.945      0.000       0.299       0.592\n",
       "hometeam[Liverpool]            0.7527      0.041     18.515      0.000       0.673       0.832\n",
       "hometeam[Man City]             0.8105      0.039     20.521      0.000       0.733       0.888\n",
       "hometeam[Man United]           0.7527      0.041     18.515      0.000       0.673       0.832\n",
       "hometeam[Middlesbrough]        0.2336      0.091      2.559      0.010       0.055       0.413\n",
       "hometeam[Newcastle]            0.3196      0.054      5.892      0.000       0.213       0.426\n",
       "hometeam[Norwich]              0.1911      0.093      2.049      0.040       0.008       0.374\n",
       "hometeam[Portsmouth]           0.2252      0.092      2.457      0.014       0.046       0.405\n",
       "hometeam[QPR]                  0.0513      0.129      0.397      0.691      -0.202       0.304\n",
       "hometeam[Reading]              0.2196      0.119      1.851      0.064      -0.013       0.452\n",
       "hometeam[Sheffield United]     0.2336      0.144      1.619      0.106      -0.049       0.517\n",
       "hometeam[Southampton]          0.3652      0.068      5.404      0.000       0.233       0.498\n",
       "hometeam[Stoke]                0.2664      0.064      4.195      0.000       0.142       0.391\n",
       "hometeam[Sunderland]           0.1173      0.065      1.797      0.072      -0.011       0.245\n",
       "hometeam[Swansea]              0.2970      0.075      3.974      0.000       0.151       0.444\n",
       "hometeam[Tottenham]            0.6071      0.044     13.884      0.000       0.521       0.693\n",
       "hometeam[Watford]              0.1983      0.085      2.338      0.019       0.032       0.365\n",
       "hometeam[West Brom]            0.2583      0.064      4.051      0.000       0.133       0.383\n",
       "hometeam[West Ham]             0.3514      0.051      6.832      0.000       0.251       0.452\n",
       "hometeam[Wigan]                0.1060      0.077      1.378      0.168      -0.045       0.257\n",
       "hometeam[Wolves]               0.2083      0.092      2.253      0.024       0.027       0.389\n",
       "==============================================================================================\n",
       "\"\"\""
      ]
     },
     "execution_count": 10,
     "metadata": {},
     "output_type": "execute_result"
    }
   ],
   "source": [
    "home = smf.glm(formula=\"homegoals ~ 0 + hometeam\", data=epl, \n",
    "                        family=sm.families.Poisson()).fit()\n",
    "home.summary()"
   ]
  },
  {
   "cell_type": "markdown",
   "metadata": {
    "ExecuteTime": {
     "end_time": "2021-11-10T03:21:53.137211Z",
     "start_time": "2021-11-10T03:21:53.127804Z"
    }
   },
   "source": [
    "Similarly for away goals"
   ]
  },
  {
   "cell_type": "code",
   "execution_count": 11,
   "metadata": {
    "ExecuteTime": {
     "end_time": "2021-11-25T14:39:35.374394Z",
     "start_time": "2021-11-25T14:39:35.279411Z"
    }
   },
   "outputs": [
    {
     "data": {
      "text/html": [
       "<table class=\"simpletable\">\n",
       "<caption>Generalized Linear Model Regression Results</caption>\n",
       "<tr>\n",
       "  <th>Dep. Variable:</th>       <td>awaygoals</td>    <th>  No. Observations:  </th>  <td>  5700</td> \n",
       "</tr>\n",
       "<tr>\n",
       "  <th>Model:</th>                  <td>GLM</td>       <th>  Df Residuals:      </th>  <td>  5661</td> \n",
       "</tr>\n",
       "<tr>\n",
       "  <th>Model Family:</th>         <td>Poisson</td>     <th>  Df Model:          </th>  <td>    38</td> \n",
       "</tr>\n",
       "<tr>\n",
       "  <th>Link Function:</th>          <td>log</td>       <th>  Scale:             </th> <td>  1.0000</td>\n",
       "</tr>\n",
       "<tr>\n",
       "  <th>Method:</th>                <td>IRLS</td>       <th>  Log-Likelihood:    </th> <td> -7854.0</td>\n",
       "</tr>\n",
       "<tr>\n",
       "  <th>Date:</th>            <td>Thu, 25 Nov 2021</td> <th>  Deviance:          </th> <td>  6783.8</td>\n",
       "</tr>\n",
       "<tr>\n",
       "  <th>Time:</th>                <td>10:39:35</td>     <th>  Pearson chi2:      </th> <td>5.94e+03</td>\n",
       "</tr>\n",
       "<tr>\n",
       "  <th>No. Iterations:</th>          <td>5</td>        <th>  Pseudo R-squ. (CS):</th>  <td>0.08115</td>\n",
       "</tr>\n",
       "<tr>\n",
       "  <th>Covariance Type:</th>     <td>nonrobust</td>    <th>                     </th>     <td> </td>   \n",
       "</tr>\n",
       "</table>\n",
       "<table class=\"simpletable\">\n",
       "<tr>\n",
       "               <td></td>                 <th>coef</th>     <th>std err</th>      <th>z</th>      <th>P>|z|</th>  <th>[0.025</th>    <th>0.975]</th>  \n",
       "</tr>\n",
       "<tr>\n",
       "  <th>awayteam[Arsenal]</th>          <td>    0.4634</td> <td>    0.047</td> <td>    9.863</td> <td> 0.000</td> <td>    0.371</td> <td>    0.555</td>\n",
       "</tr>\n",
       "<tr>\n",
       "  <th>awayteam[Aston Villa]</th>      <td>    0.1197</td> <td>    0.062</td> <td>    1.919</td> <td> 0.055</td> <td>   -0.003</td> <td>    0.242</td>\n",
       "</tr>\n",
       "<tr>\n",
       "  <th>awayteam[Birmingham]</th>       <td>   -0.2036</td> <td>    0.127</td> <td>   -1.603</td> <td> 0.109</td> <td>   -0.453</td> <td>    0.045</td>\n",
       "</tr>\n",
       "<tr>\n",
       "  <th>awayteam[Blackburn]</th>        <td>    0.0655</td> <td>    0.084</td> <td>    0.780</td> <td> 0.435</td> <td>   -0.099</td> <td>    0.230</td>\n",
       "</tr>\n",
       "<tr>\n",
       "  <th>awayteam[Blackpool]</th>        <td>    0.2744</td> <td>    0.200</td> <td>    1.372</td> <td> 0.170</td> <td>   -0.118</td> <td>    0.666</td>\n",
       "</tr>\n",
       "<tr>\n",
       "  <th>awayteam[Bolton]</th>           <td>   -0.0152</td> <td>    0.087</td> <td>   -0.173</td> <td> 0.862</td> <td>   -0.186</td> <td>    0.156</td>\n",
       "</tr>\n",
       "<tr>\n",
       "  <th>awayteam[Bournemouth]</th>      <td>    0.1001</td> <td>    0.098</td> <td>    1.026</td> <td> 0.305</td> <td>   -0.091</td> <td>    0.291</td>\n",
       "</tr>\n",
       "<tr>\n",
       "  <th>awayteam[Brighton]</th>         <td>   -0.2364</td> <td>    0.149</td> <td>   -1.586</td> <td> 0.113</td> <td>   -0.529</td> <td>    0.056</td>\n",
       "</tr>\n",
       "<tr>\n",
       "  <th>awayteam[Burnley]</th>          <td>   -0.0918</td> <td>    0.098</td> <td>   -0.936</td> <td> 0.349</td> <td>   -0.284</td> <td>    0.100</td>\n",
       "</tr>\n",
       "<tr>\n",
       "  <th>awayteam[Cardiff]</th>          <td>   -0.4187</td> <td>    0.200</td> <td>   -2.094</td> <td> 0.036</td> <td>   -0.811</td> <td>   -0.027</td>\n",
       "</tr>\n",
       "<tr>\n",
       "  <th>awayteam[Charlton]</th>         <td>   -0.1112</td> <td>    0.171</td> <td>   -0.649</td> <td> 0.517</td> <td>   -0.447</td> <td>    0.225</td>\n",
       "</tr>\n",
       "<tr>\n",
       "  <th>awayteam[Chelsea]</th>          <td>    0.4700</td> <td>    0.047</td> <td>   10.037</td> <td> 0.000</td> <td>    0.378</td> <td>    0.562</td>\n",
       "</tr>\n",
       "<tr>\n",
       "  <th>awayteam[Crystal Palace]</th>   <td>    0.1269</td> <td>    0.081</td> <td>    1.560</td> <td> 0.119</td> <td>   -0.033</td> <td>    0.286</td>\n",
       "</tr>\n",
       "<tr>\n",
       "  <th>awayteam[Derby]</th>            <td>   -0.8650</td> <td>    0.354</td> <td>   -2.447</td> <td> 0.014</td> <td>   -1.558</td> <td>   -0.172</td>\n",
       "</tr>\n",
       "<tr>\n",
       "  <th>awayteam[Everton]</th>          <td>    0.0937</td> <td>    0.057</td> <td>    1.658</td> <td> 0.097</td> <td>   -0.017</td> <td>    0.204</td>\n",
       "</tr>\n",
       "<tr>\n",
       "  <th>awayteam[Fulham]</th>           <td>   -0.1908</td> <td>    0.080</td> <td>   -2.390</td> <td> 0.017</td> <td>   -0.347</td> <td>   -0.034</td>\n",
       "</tr>\n",
       "<tr>\n",
       "  <th>awayteam[Huddersfield]</th>     <td>   -0.4595</td> <td>    0.204</td> <td>   -2.251</td> <td> 0.024</td> <td>   -0.860</td> <td>   -0.059</td>\n",
       "</tr>\n",
       "<tr>\n",
       "  <th>awayteam[Hull]</th>             <td>   -0.2498</td> <td>    0.116</td> <td>   -2.149</td> <td> 0.032</td> <td>   -0.478</td> <td>   -0.022</td>\n",
       "</tr>\n",
       "<tr>\n",
       "  <th>awayteam[Leicester]</th>        <td>    0.3264</td> <td>    0.080</td> <td>    4.103</td> <td> 0.000</td> <td>    0.170</td> <td>    0.482</td>\n",
       "</tr>\n",
       "<tr>\n",
       "  <th>awayteam[Liverpool]</th>        <td>    0.4411</td> <td>    0.048</td> <td>    9.284</td> <td> 0.000</td> <td>    0.348</td> <td>    0.534</td>\n",
       "</tr>\n",
       "<tr>\n",
       "  <th>awayteam[Man City]</th>         <td>    0.4895</td> <td>    0.046</td> <td>   10.557</td> <td> 0.000</td> <td>    0.399</td> <td>    0.580</td>\n",
       "</tr>\n",
       "<tr>\n",
       "  <th>awayteam[Man United]</th>       <td>    0.4895</td> <td>    0.046</td> <td>   10.557</td> <td> 0.000</td> <td>    0.399</td> <td>    0.580</td>\n",
       "</tr>\n",
       "<tr>\n",
       "  <th>awayteam[Middlesbrough]</th>    <td>   -0.3054</td> <td>    0.120</td> <td>   -2.555</td> <td> 0.011</td> <td>   -0.540</td> <td>   -0.071</td>\n",
       "</tr>\n",
       "<tr>\n",
       "  <th>awayteam[Newcastle]</th>        <td>   -0.0583</td> <td>    0.066</td> <td>   -0.891</td> <td> 0.373</td> <td>   -0.187</td> <td>    0.070</td>\n",
       "</tr>\n",
       "<tr>\n",
       "  <th>awayteam[Norwich]</th>          <td>   -0.2912</td> <td>    0.119</td> <td>   -2.454</td> <td> 0.014</td> <td>   -0.524</td> <td>   -0.059</td>\n",
       "</tr>\n",
       "<tr>\n",
       "  <th>awayteam[Portsmouth]</th>       <td>   -0.1350</td> <td>    0.110</td> <td>   -1.230</td> <td> 0.219</td> <td>   -0.350</td> <td>    0.080</td>\n",
       "</tr>\n",
       "<tr>\n",
       "  <th>awayteam[QPR]</th>              <td>   -0.0357</td> <td>    0.135</td> <td>   -0.265</td> <td> 0.791</td> <td>   -0.300</td> <td>    0.229</td>\n",
       "</tr>\n",
       "<tr>\n",
       "  <th>awayteam[Reading]</th>          <td>    0.1313</td> <td>    0.124</td> <td>    1.059</td> <td> 0.290</td> <td>   -0.112</td> <td>    0.374</td>\n",
       "</tr>\n",
       "<tr>\n",
       "  <th>awayteam[Sheffield United]</th> <td>   -0.5021</td> <td>    0.209</td> <td>   -2.408</td> <td> 0.016</td> <td>   -0.911</td> <td>   -0.093</td>\n",
       "</tr>\n",
       "<tr>\n",
       "  <th>awayteam[Southampton]</th>      <td>    0.1178</td> <td>    0.076</td> <td>    1.540</td> <td> 0.124</td> <td>   -0.032</td> <td>    0.268</td>\n",
       "</tr>\n",
       "<tr>\n",
       "  <th>awayteam[Stoke]</th>            <td>   -0.2364</td> <td>    0.082</td> <td>   -2.895</td> <td> 0.004</td> <td>   -0.396</td> <td>   -0.076</td>\n",
       "</tr>\n",
       "<tr>\n",
       "  <th>awayteam[Sunderland]</th>       <td>   -0.1006</td> <td>    0.073</td> <td>   -1.383</td> <td> 0.167</td> <td>   -0.243</td> <td>    0.042</td>\n",
       "</tr>\n",
       "<tr>\n",
       "  <th>awayteam[Swansea]</th>          <td>   -0.0462</td> <td>    0.089</td> <td>   -0.520</td> <td> 0.603</td> <td>   -0.220</td> <td>    0.128</td>\n",
       "</tr>\n",
       "<tr>\n",
       "  <th>awayteam[Tottenham]</th>        <td>    0.3925</td> <td>    0.049</td> <td>    8.063</td> <td> 0.000</td> <td>    0.297</td> <td>    0.488</td>\n",
       "</tr>\n",
       "<tr>\n",
       "  <th>awayteam[Watford]</th>          <td>   -0.1112</td> <td>    0.099</td> <td>   -1.123</td> <td> 0.261</td> <td>   -0.305</td> <td>    0.083</td>\n",
       "</tr>\n",
       "<tr>\n",
       "  <th>awayteam[West Brom]</th>        <td>   -0.1472</td> <td>    0.078</td> <td>   -1.885</td> <td> 0.059</td> <td>   -0.300</td> <td>    0.006</td>\n",
       "</tr>\n",
       "<tr>\n",
       "  <th>awayteam[West Ham]</th>         <td>    0.0260</td> <td>    0.061</td> <td>    0.429</td> <td> 0.668</td> <td>   -0.093</td> <td>    0.145</td>\n",
       "</tr>\n",
       "<tr>\n",
       "  <th>awayteam[Wigan]</th>            <td>   -0.0334</td> <td>    0.082</td> <td>   -0.406</td> <td> 0.685</td> <td>   -0.195</td> <td>    0.128</td>\n",
       "</tr>\n",
       "<tr>\n",
       "  <th>awayteam[Wolves]</th>           <td>    0.0412</td> <td>    0.101</td> <td>    0.410</td> <td> 0.682</td> <td>   -0.156</td> <td>    0.238</td>\n",
       "</tr>\n",
       "</table>"
      ],
      "text/plain": [
       "<class 'statsmodels.iolib.summary.Summary'>\n",
       "\"\"\"\n",
       "                 Generalized Linear Model Regression Results                  \n",
       "==============================================================================\n",
       "Dep. Variable:              awaygoals   No. Observations:                 5700\n",
       "Model:                            GLM   Df Residuals:                     5661\n",
       "Model Family:                 Poisson   Df Model:                           38\n",
       "Link Function:                    log   Scale:                          1.0000\n",
       "Method:                          IRLS   Log-Likelihood:                -7854.0\n",
       "Date:                Thu, 25 Nov 2021   Deviance:                       6783.8\n",
       "Time:                        10:39:35   Pearson chi2:                 5.94e+03\n",
       "No. Iterations:                     5   Pseudo R-squ. (CS):            0.08115\n",
       "Covariance Type:            nonrobust                                         \n",
       "==============================================================================================\n",
       "                                 coef    std err          z      P>|z|      [0.025      0.975]\n",
       "----------------------------------------------------------------------------------------------\n",
       "awayteam[Arsenal]              0.4634      0.047      9.863      0.000       0.371       0.555\n",
       "awayteam[Aston Villa]          0.1197      0.062      1.919      0.055      -0.003       0.242\n",
       "awayteam[Birmingham]          -0.2036      0.127     -1.603      0.109      -0.453       0.045\n",
       "awayteam[Blackburn]            0.0655      0.084      0.780      0.435      -0.099       0.230\n",
       "awayteam[Blackpool]            0.2744      0.200      1.372      0.170      -0.118       0.666\n",
       "awayteam[Bolton]              -0.0152      0.087     -0.173      0.862      -0.186       0.156\n",
       "awayteam[Bournemouth]          0.1001      0.098      1.026      0.305      -0.091       0.291\n",
       "awayteam[Brighton]            -0.2364      0.149     -1.586      0.113      -0.529       0.056\n",
       "awayteam[Burnley]             -0.0918      0.098     -0.936      0.349      -0.284       0.100\n",
       "awayteam[Cardiff]             -0.4187      0.200     -2.094      0.036      -0.811      -0.027\n",
       "awayteam[Charlton]            -0.1112      0.171     -0.649      0.517      -0.447       0.225\n",
       "awayteam[Chelsea]              0.4700      0.047     10.037      0.000       0.378       0.562\n",
       "awayteam[Crystal Palace]       0.1269      0.081      1.560      0.119      -0.033       0.286\n",
       "awayteam[Derby]               -0.8650      0.354     -2.447      0.014      -1.558      -0.172\n",
       "awayteam[Everton]              0.0937      0.057      1.658      0.097      -0.017       0.204\n",
       "awayteam[Fulham]              -0.1908      0.080     -2.390      0.017      -0.347      -0.034\n",
       "awayteam[Huddersfield]        -0.4595      0.204     -2.251      0.024      -0.860      -0.059\n",
       "awayteam[Hull]                -0.2498      0.116     -2.149      0.032      -0.478      -0.022\n",
       "awayteam[Leicester]            0.3264      0.080      4.103      0.000       0.170       0.482\n",
       "awayteam[Liverpool]            0.4411      0.048      9.284      0.000       0.348       0.534\n",
       "awayteam[Man City]             0.4895      0.046     10.557      0.000       0.399       0.580\n",
       "awayteam[Man United]           0.4895      0.046     10.557      0.000       0.399       0.580\n",
       "awayteam[Middlesbrough]       -0.3054      0.120     -2.555      0.011      -0.540      -0.071\n",
       "awayteam[Newcastle]           -0.0583      0.066     -0.891      0.373      -0.187       0.070\n",
       "awayteam[Norwich]             -0.2912      0.119     -2.454      0.014      -0.524      -0.059\n",
       "awayteam[Portsmouth]          -0.1350      0.110     -1.230      0.219      -0.350       0.080\n",
       "awayteam[QPR]                 -0.0357      0.135     -0.265      0.791      -0.300       0.229\n",
       "awayteam[Reading]              0.1313      0.124      1.059      0.290      -0.112       0.374\n",
       "awayteam[Sheffield United]    -0.5021      0.209     -2.408      0.016      -0.911      -0.093\n",
       "awayteam[Southampton]          0.1178      0.076      1.540      0.124      -0.032       0.268\n",
       "awayteam[Stoke]               -0.2364      0.082     -2.895      0.004      -0.396      -0.076\n",
       "awayteam[Sunderland]          -0.1006      0.073     -1.383      0.167      -0.243       0.042\n",
       "awayteam[Swansea]             -0.0462      0.089     -0.520      0.603      -0.220       0.128\n",
       "awayteam[Tottenham]            0.3925      0.049      8.063      0.000       0.297       0.488\n",
       "awayteam[Watford]             -0.1112      0.099     -1.123      0.261      -0.305       0.083\n",
       "awayteam[West Brom]           -0.1472      0.078     -1.885      0.059      -0.300       0.006\n",
       "awayteam[West Ham]             0.0260      0.061      0.429      0.668      -0.093       0.145\n",
       "awayteam[Wigan]               -0.0334      0.082     -0.406      0.685      -0.195       0.128\n",
       "awayteam[Wolves]               0.0412      0.101      0.410      0.682      -0.156       0.238\n",
       "==============================================================================================\n",
       "\"\"\""
      ]
     },
     "execution_count": 11,
     "metadata": {},
     "output_type": "execute_result"
    }
   ],
   "source": [
    "away = smf.glm(formula=\"awaygoals ~ 0 + awayteam\", data=epl, \n",
    "                        family=sm.families.Poisson()).fit()\n",
    "away.summary()"
   ]
  },
  {
   "cell_type": "markdown",
   "metadata": {},
   "source": [
    "Now that we have the home and away scoring rates for each team let's prepare the data for the simulation. "
   ]
  },
  {
   "cell_type": "code",
   "execution_count": 12,
   "metadata": {
    "ExecuteTime": {
     "end_time": "2021-11-25T14:39:35.758576Z",
     "start_time": "2021-11-25T14:39:35.649863Z"
    }
   },
   "outputs": [],
   "source": [
    "home_rate, away_rate = get_stats(home), get_stats(away)\n",
    "\n",
    "home_rate['key'] = 1\n",
    "away_rate['key'] = 1"
   ]
  },
  {
   "cell_type": "markdown",
   "metadata": {},
   "source": [
    "We first combine the two dataframes such that every club plays with every other team twice (home and away). This results in a total of 380 rows, representing the 380 matchups of the season.\n",
    "\n",
    "Since we used the data from seasons 2005-2020, there are some teams which are relegated and therefore currently not in the EPL. It makes sense to exclude these clubs and include only those which have qualified for the next season."
   ]
  },
  {
   "cell_type": "code",
   "execution_count": 13,
   "metadata": {
    "ExecuteTime": {
     "end_time": "2021-11-25T14:39:35.988505Z",
     "start_time": "2021-11-25T14:39:35.971711Z"
    }
   },
   "outputs": [],
   "source": [
    "xG = home_rate.merge(away_rate, how='outer', suffixes=('_home', '_away'), on='key').drop('key', axis=1)\n",
    "xG = xG[xG.team_home != xG.team_away].reset_index(drop=True)"
   ]
  },
  {
   "cell_type": "code",
   "execution_count": 14,
   "metadata": {
    "ExecuteTime": {
     "end_time": "2021-11-25T14:39:36.203902Z",
     "start_time": "2021-11-25T14:39:36.193808Z"
    }
   },
   "outputs": [
    {
     "data": {
      "text/html": [
       "<div>\n",
       "<style scoped>\n",
       "    .dataframe tbody tr th:only-of-type {\n",
       "        vertical-align: middle;\n",
       "    }\n",
       "\n",
       "    .dataframe tbody tr th {\n",
       "        vertical-align: top;\n",
       "    }\n",
       "\n",
       "    .dataframe thead th {\n",
       "        text-align: right;\n",
       "    }\n",
       "</style>\n",
       "<table border=\"1\" class=\"dataframe\">\n",
       "  <thead>\n",
       "    <tr style=\"text-align: right;\">\n",
       "      <th></th>\n",
       "      <th>team_home</th>\n",
       "      <th>rate_home</th>\n",
       "      <th>team_away</th>\n",
       "      <th>rate_away</th>\n",
       "    </tr>\n",
       "  </thead>\n",
       "  <tbody>\n",
       "    <tr>\n",
       "      <th>0</th>\n",
       "      <td>Arsenal</td>\n",
       "      <td>2.122724</td>\n",
       "      <td>Aston Villa</td>\n",
       "      <td>1.127159</td>\n",
       "    </tr>\n",
       "    <tr>\n",
       "      <th>1</th>\n",
       "      <td>Arsenal</td>\n",
       "      <td>2.122724</td>\n",
       "      <td>Birmingham</td>\n",
       "      <td>0.815789</td>\n",
       "    </tr>\n",
       "  </tbody>\n",
       "</table>\n",
       "</div>"
      ],
      "text/plain": [
       "  team_home  rate_home    team_away  rate_away\n",
       "0   Arsenal   2.122724  Aston Villa   1.127159\n",
       "1   Arsenal   2.122724   Birmingham   0.815789"
      ]
     },
     "execution_count": 14,
     "metadata": {},
     "output_type": "execute_result"
    }
   ],
   "source": [
    "xG.head(2)"
   ]
  },
  {
   "cell_type": "code",
   "execution_count": 15,
   "metadata": {
    "ExecuteTime": {
     "end_time": "2021-11-25T14:39:36.396221Z",
     "start_time": "2021-11-25T14:39:36.368959Z"
    }
   },
   "outputs": [
    {
     "data": {
      "text/html": [
       "<div>\n",
       "<style scoped>\n",
       "    .dataframe tbody tr th:only-of-type {\n",
       "        vertical-align: middle;\n",
       "    }\n",
       "\n",
       "    .dataframe tbody tr th {\n",
       "        vertical-align: top;\n",
       "    }\n",
       "\n",
       "    .dataframe thead th {\n",
       "        text-align: right;\n",
       "    }\n",
       "</style>\n",
       "<table border=\"1\" class=\"dataframe\">\n",
       "  <thead>\n",
       "    <tr style=\"text-align: right;\">\n",
       "      <th></th>\n",
       "      <th>team_home</th>\n",
       "      <th>rate_home</th>\n",
       "      <th>team_away</th>\n",
       "      <th>rate_away</th>\n",
       "    </tr>\n",
       "  </thead>\n",
       "  <tbody>\n",
       "    <tr>\n",
       "      <th>0</th>\n",
       "      <td>Arsenal</td>\n",
       "      <td>2.122724</td>\n",
       "      <td>Aston Villa</td>\n",
       "      <td>1.127159</td>\n",
       "    </tr>\n",
       "    <tr>\n",
       "      <th>1</th>\n",
       "      <td>Arsenal</td>\n",
       "      <td>2.122724</td>\n",
       "      <td>Brighton</td>\n",
       "      <td>0.789465</td>\n",
       "    </tr>\n",
       "    <tr>\n",
       "      <th>2</th>\n",
       "      <td>Arsenal</td>\n",
       "      <td>2.122724</td>\n",
       "      <td>Burnley</td>\n",
       "      <td>0.912288</td>\n",
       "    </tr>\n",
       "    <tr>\n",
       "      <th>3</th>\n",
       "      <td>Arsenal</td>\n",
       "      <td>2.122724</td>\n",
       "      <td>Chelsea</td>\n",
       "      <td>1.599994</td>\n",
       "    </tr>\n",
       "    <tr>\n",
       "      <th>4</th>\n",
       "      <td>Arsenal</td>\n",
       "      <td>2.122724</td>\n",
       "      <td>Crystal Palace</td>\n",
       "      <td>1.135303</td>\n",
       "    </tr>\n",
       "    <tr>\n",
       "      <th>...</th>\n",
       "      <td>...</td>\n",
       "      <td>...</td>\n",
       "      <td>...</td>\n",
       "      <td>...</td>\n",
       "    </tr>\n",
       "    <tr>\n",
       "      <th>337</th>\n",
       "      <td>Wolves</td>\n",
       "      <td>1.231583</td>\n",
       "      <td>Sheffield United</td>\n",
       "      <td>0.605258</td>\n",
       "    </tr>\n",
       "    <tr>\n",
       "      <th>338</th>\n",
       "      <td>Wolves</td>\n",
       "      <td>1.231583</td>\n",
       "      <td>Southampton</td>\n",
       "      <td>1.125019</td>\n",
       "    </tr>\n",
       "    <tr>\n",
       "      <th>339</th>\n",
       "      <td>Wolves</td>\n",
       "      <td>1.231583</td>\n",
       "      <td>Tottenham</td>\n",
       "      <td>1.480678</td>\n",
       "    </tr>\n",
       "    <tr>\n",
       "      <th>340</th>\n",
       "      <td>Wolves</td>\n",
       "      <td>1.231583</td>\n",
       "      <td>West Brom</td>\n",
       "      <td>0.863121</td>\n",
       "    </tr>\n",
       "    <tr>\n",
       "      <th>341</th>\n",
       "      <td>Wolves</td>\n",
       "      <td>1.231583</td>\n",
       "      <td>West Ham</td>\n",
       "      <td>1.026341</td>\n",
       "    </tr>\n",
       "  </tbody>\n",
       "</table>\n",
       "<p>342 rows × 4 columns</p>\n",
       "</div>"
      ],
      "text/plain": [
       "    team_home  rate_home         team_away  rate_away\n",
       "0     Arsenal   2.122724       Aston Villa   1.127159\n",
       "1     Arsenal   2.122724          Brighton   0.789465\n",
       "2     Arsenal   2.122724           Burnley   0.912288\n",
       "3     Arsenal   2.122724           Chelsea   1.599994\n",
       "4     Arsenal   2.122724    Crystal Palace   1.135303\n",
       "..        ...        ...               ...        ...\n",
       "337    Wolves   1.231583  Sheffield United   0.605258\n",
       "338    Wolves   1.231583       Southampton   1.125019\n",
       "339    Wolves   1.231583         Tottenham   1.480678\n",
       "340    Wolves   1.231583         West Brom   0.863121\n",
       "341    Wolves   1.231583          West Ham   1.026341\n",
       "\n",
       "[342 rows x 4 columns]"
      ]
     },
     "execution_count": 15,
     "metadata": {},
     "output_type": "execute_result"
    }
   ],
   "source": [
    "qualified_teams = ['Arsenal',\n",
    "                    'Aston Villa',\n",
    "                    'Brighton',\n",
    "                    'Burnley',\n",
    "                    'Chelsea',\n",
    "                    'Crystal Palace',\n",
    "                    'Everton',\n",
    "                    'Fulham',\n",
    "                    'Leeds United',\n",
    "                    'Leicester',\n",
    "                    'Liverpool',\n",
    "                    'Man City',\n",
    "                    'Man United',\n",
    "                    'Newcastle',\n",
    "                    'Sheffield United',\n",
    "                    'Southampton',\n",
    "                    'Tottenham',\n",
    "                    'West Brom',\n",
    "                    'West Ham',\n",
    "                    'Wolves']\n",
    "\n",
    "xG = xG[(xG.team_home.isin(qualified_teams)) & (xG.team_away.isin(qualified_teams))]\n",
    "xG.reset_index(drop=True, inplace=True)\n",
    "xG"
   ]
  },
  {
   "cell_type": "code",
   "execution_count": 16,
   "metadata": {
    "ExecuteTime": {
     "end_time": "2021-11-25T14:39:36.551467Z",
     "start_time": "2021-11-25T14:39:36.545470Z"
    }
   },
   "outputs": [
    {
     "data": {
      "text/plain": [
       "3420000"
      ]
     },
     "execution_count": 16,
     "metadata": {},
     "output_type": "execute_result"
    }
   ],
   "source": [
    "342 * 10_000"
   ]
  },
  {
   "cell_type": "markdown",
   "metadata": {},
   "source": [
    "We would like to simulate the results 10,000 times, hence we dulplicate the above table 10,000 times, and create a new table with 3420000 (342 x 10,000) rows where each 342 row subset is the result of 1 simulation. We feed in the scoring rates calculated earlier to the poisson distribution to generate the number of goals scored for every home and away team in every row of the table. \n",
    "\n",
    "In addition, the number of points for every match outcome based on the team’s number of goals scored are also calculated, as a side gets 3 points if it scores more than its opponent, 1 point if it’s a draw, and 0 points if the opposing roster has more goals."
   ]
  },
  {
   "cell_type": "code",
   "execution_count": 17,
   "metadata": {
    "ExecuteTime": {
     "end_time": "2021-11-25T14:39:38.414432Z",
     "start_time": "2021-11-25T14:39:37.175484Z"
    }
   },
   "outputs": [],
   "source": [
    "n_sim = 10_000\n",
    "sim_xG = pd.concat([xG]*n_sim)"
   ]
  },
  {
   "cell_type": "code",
   "execution_count": 43,
   "metadata": {
    "ExecuteTime": {
     "end_time": "2021-11-25T15:03:12.623640Z",
     "start_time": "2021-11-25T15:03:12.616700Z"
    }
   },
   "outputs": [],
   "source": [
    "def _get_scores(t_home, t_away):\n",
    "    rate_home = xG[xG.team_home == t_home]['rate_home'].unique()[0]\n",
    "    rate_away = xG[xG.team_away == t_away]['rate_away'].unique()[0]\n",
    "    \n",
    "    score_home, score_away = poisson.rvs(rate_home), poisson.rvs(rate_away)\n",
    "    return score_home, score_away"
   ]
  },
  {
   "cell_type": "code",
   "execution_count": 44,
   "metadata": {
    "ExecuteTime": {
     "end_time": "2021-11-25T15:20:30.292176Z",
     "start_time": "2021-11-25T15:03:19.042694Z"
    }
   },
   "outputs": [],
   "source": [
    "sim_xG['score'] = sim_xG.apply(lambda x: _get_scores(x['team_home'], x['team_away']), axis=1) # this takes a while to run\n",
    "\n",
    "sim_xG[['sim_home', 'sim_away']] = pd.DataFrame(sim_xG['score'].tolist(), index=sim_xG.index)\n",
    "sim_xG.drop('score', axis=1, inplace=True)\n",
    "\n",
    "sim_xG['home_pts'] = np.where(sim_xG.sim_home > sim_xG.sim_away, 3, np.where(sim_xG.sim_home == sim_xG.sim_away, 1, 0))\n",
    "sim_xG['away_pts'] = np.where(sim_xG.sim_home > sim_xG.sim_away, 0, np.where(sim_xG.sim_home == sim_xG.sim_away, 1, 3))\n"
   ]
  },
  {
   "cell_type": "markdown",
   "metadata": {},
   "source": [
    "Here's a look at the first few rows of the table. The columns `sim_home` and `sim_away` indicate our simulate match outcome for each matchup, as they are the number of goals scored for each club randomly generated using their scoring rates. `home_pts` and `away_pts` columns show the final points of the match. For example, consider the second row, Arsenal vs Brighton, Arsenal on their home pitch beats Brighton 2-1 and is therefore awarded 3 points for the win whereas Brighton gets no points for their loss."
   ]
  },
  {
   "cell_type": "code",
   "execution_count": 3,
   "metadata": {},
   "outputs": [
    {
     "data": {
      "text/html": [
       "<div>\n",
       "<style scoped>\n",
       "    .dataframe tbody tr th:only-of-type {\n",
       "        vertical-align: middle;\n",
       "    }\n",
       "\n",
       "    .dataframe tbody tr th {\n",
       "        vertical-align: top;\n",
       "    }\n",
       "\n",
       "    .dataframe thead th {\n",
       "        text-align: right;\n",
       "    }\n",
       "</style>\n",
       "<table border=\"1\" class=\"dataframe\">\n",
       "  <thead>\n",
       "    <tr style=\"text-align: right;\">\n",
       "      <th></th>\n",
       "      <th>team_home</th>\n",
       "      <th>rate_home</th>\n",
       "      <th>team_away</th>\n",
       "      <th>rate_away</th>\n",
       "      <th>sim_home</th>\n",
       "      <th>sim_away</th>\n",
       "      <th>home_pts</th>\n",
       "      <th>away_pts</th>\n",
       "    </tr>\n",
       "  </thead>\n",
       "  <tbody>\n",
       "    <tr>\n",
       "      <th>0</th>\n",
       "      <td>Arsenal</td>\n",
       "      <td>2.122724</td>\n",
       "      <td>Aston Villa</td>\n",
       "      <td>1.127159</td>\n",
       "      <td>1</td>\n",
       "      <td>0</td>\n",
       "      <td>3</td>\n",
       "      <td>0</td>\n",
       "    </tr>\n",
       "    <tr>\n",
       "      <th>1</th>\n",
       "      <td>Arsenal</td>\n",
       "      <td>2.122724</td>\n",
       "      <td>Brighton</td>\n",
       "      <td>0.789465</td>\n",
       "      <td>2</td>\n",
       "      <td>1</td>\n",
       "      <td>3</td>\n",
       "      <td>0</td>\n",
       "    </tr>\n",
       "    <tr>\n",
       "      <th>2</th>\n",
       "      <td>Arsenal</td>\n",
       "      <td>2.122724</td>\n",
       "      <td>Burnley</td>\n",
       "      <td>0.912288</td>\n",
       "      <td>4</td>\n",
       "      <td>1</td>\n",
       "      <td>3</td>\n",
       "      <td>0</td>\n",
       "    </tr>\n",
       "  </tbody>\n",
       "</table>\n",
       "</div>"
      ],
      "text/plain": [
       "  team_home  rate_home    team_away  rate_away  sim_home  sim_away  home_pts  \\\n",
       "0   Arsenal   2.122724  Aston Villa   1.127159         1         0         3   \n",
       "1   Arsenal   2.122724     Brighton   0.789465         2         1         3   \n",
       "2   Arsenal   2.122724      Burnley   0.912288         4         1         3   \n",
       "\n",
       "   away_pts  \n",
       "0         0  \n",
       "1         0  \n",
       "2         0  "
      ]
     },
     "execution_count": 3,
     "metadata": {},
     "output_type": "execute_result"
    }
   ],
   "source": [
    "sim_xG.head(3)"
   ]
  },
  {
   "cell_type": "code",
   "execution_count": 45,
   "metadata": {
    "ExecuteTime": {
     "end_time": "2021-11-25T15:20:30.297942Z",
     "start_time": "2021-11-25T15:20:30.293832Z"
    }
   },
   "outputs": [],
   "source": [
    "def sim_season(num):\n",
    "    frow = 342 * num - 342\n",
    "    lrow = 342 * num\n",
    "    sim_table = sim_xG.iloc[frow:lrow, :]\n",
    "    \n",
    "    home_stats = sim_table.groupby('team_home')[['home_pts', 'sim_home', 'sim_away']].sum()\n",
    "    away_stats = sim_table.groupby('team_away')[['away_pts', 'sim_away', 'sim_home']].sum()\n",
    "    \n",
    "    final_ranks = pd.merge(home_stats, away_stats, left_index=True, right_index=True, suffixes=('_x1', '_x2'))\n",
    "    final_ranks['final_pts'] = final_ranks['home_pts'] + final_ranks['away_pts']\n",
    "    final_ranks['gd'] = (final_ranks['sim_home_x1'] - final_ranks['sim_away_x1']) + (final_ranks['sim_away_x2'] - final_ranks['sim_home_x2'])\n",
    "    final_ranks['sim'] = num\n",
    "    final_ranks['rank'] = final_ranks[['final_pts', 'gd']].apply(tuple,axis=1).rank(method='dense',ascending=False).astype(int)\n",
    "    final_ranks.reset_index(inplace=True)\n",
    "    final_ranks.rename(columns={'team_home': 'team'}, inplace=True)\n",
    "    final_ranks.sort_values(by='rank', inplace=True)\n",
    "    final_ranks.reset_index(drop=True, inplace=True)\n",
    "    \n",
    "    return final_ranks[['team', 'final_pts', 'gd', 'sim', 'rank']]"
   ]
  },
  {
   "cell_type": "markdown",
   "metadata": {},
   "source": [
    "Let's have a look at one of the simulation"
   ]
  },
  {
   "cell_type": "code",
   "execution_count": 46,
   "metadata": {
    "ExecuteTime": {
     "end_time": "2021-11-25T15:20:30.308354Z",
     "start_time": "2021-11-25T15:20:30.298553Z"
    }
   },
   "outputs": [
    {
     "data": {
      "text/html": [
       "<div>\n",
       "<style scoped>\n",
       "    .dataframe tbody tr th:only-of-type {\n",
       "        vertical-align: middle;\n",
       "    }\n",
       "\n",
       "    .dataframe tbody tr th {\n",
       "        vertical-align: top;\n",
       "    }\n",
       "\n",
       "    .dataframe thead th {\n",
       "        text-align: right;\n",
       "    }\n",
       "</style>\n",
       "<table border=\"1\" class=\"dataframe\">\n",
       "  <thead>\n",
       "    <tr style=\"text-align: right;\">\n",
       "      <th></th>\n",
       "      <th>team</th>\n",
       "      <th>final_pts</th>\n",
       "      <th>gd</th>\n",
       "      <th>sim</th>\n",
       "      <th>rank</th>\n",
       "    </tr>\n",
       "  </thead>\n",
       "  <tbody>\n",
       "    <tr>\n",
       "      <th>0</th>\n",
       "      <td>Man United</td>\n",
       "      <td>67</td>\n",
       "      <td>22</td>\n",
       "      <td>7</td>\n",
       "      <td>1</td>\n",
       "    </tr>\n",
       "    <tr>\n",
       "      <th>1</th>\n",
       "      <td>Arsenal</td>\n",
       "      <td>67</td>\n",
       "      <td>18</td>\n",
       "      <td>7</td>\n",
       "      <td>2</td>\n",
       "    </tr>\n",
       "    <tr>\n",
       "      <th>2</th>\n",
       "      <td>Chelsea</td>\n",
       "      <td>67</td>\n",
       "      <td>16</td>\n",
       "      <td>7</td>\n",
       "      <td>3</td>\n",
       "    </tr>\n",
       "    <tr>\n",
       "      <th>3</th>\n",
       "      <td>Leicester</td>\n",
       "      <td>61</td>\n",
       "      <td>14</td>\n",
       "      <td>7</td>\n",
       "      <td>4</td>\n",
       "    </tr>\n",
       "    <tr>\n",
       "      <th>4</th>\n",
       "      <td>Man City</td>\n",
       "      <td>59</td>\n",
       "      <td>29</td>\n",
       "      <td>7</td>\n",
       "      <td>5</td>\n",
       "    </tr>\n",
       "    <tr>\n",
       "      <th>5</th>\n",
       "      <td>Liverpool</td>\n",
       "      <td>59</td>\n",
       "      <td>21</td>\n",
       "      <td>7</td>\n",
       "      <td>6</td>\n",
       "    </tr>\n",
       "    <tr>\n",
       "      <th>6</th>\n",
       "      <td>Tottenham</td>\n",
       "      <td>53</td>\n",
       "      <td>8</td>\n",
       "      <td>7</td>\n",
       "      <td>7</td>\n",
       "    </tr>\n",
       "    <tr>\n",
       "      <th>7</th>\n",
       "      <td>Newcastle</td>\n",
       "      <td>50</td>\n",
       "      <td>-4</td>\n",
       "      <td>7</td>\n",
       "      <td>8</td>\n",
       "    </tr>\n",
       "    <tr>\n",
       "      <th>8</th>\n",
       "      <td>Southampton</td>\n",
       "      <td>46</td>\n",
       "      <td>7</td>\n",
       "      <td>7</td>\n",
       "      <td>9</td>\n",
       "    </tr>\n",
       "    <tr>\n",
       "      <th>9</th>\n",
       "      <td>Fulham</td>\n",
       "      <td>46</td>\n",
       "      <td>-7</td>\n",
       "      <td>7</td>\n",
       "      <td>10</td>\n",
       "    </tr>\n",
       "    <tr>\n",
       "      <th>10</th>\n",
       "      <td>Crystal Palace</td>\n",
       "      <td>45</td>\n",
       "      <td>-19</td>\n",
       "      <td>7</td>\n",
       "      <td>11</td>\n",
       "    </tr>\n",
       "    <tr>\n",
       "      <th>11</th>\n",
       "      <td>West Brom</td>\n",
       "      <td>44</td>\n",
       "      <td>-9</td>\n",
       "      <td>7</td>\n",
       "      <td>12</td>\n",
       "    </tr>\n",
       "    <tr>\n",
       "      <th>12</th>\n",
       "      <td>Everton</td>\n",
       "      <td>42</td>\n",
       "      <td>10</td>\n",
       "      <td>7</td>\n",
       "      <td>13</td>\n",
       "    </tr>\n",
       "    <tr>\n",
       "      <th>13</th>\n",
       "      <td>Wolves</td>\n",
       "      <td>40</td>\n",
       "      <td>-14</td>\n",
       "      <td>7</td>\n",
       "      <td>14</td>\n",
       "    </tr>\n",
       "    <tr>\n",
       "      <th>14</th>\n",
       "      <td>Brighton</td>\n",
       "      <td>40</td>\n",
       "      <td>-18</td>\n",
       "      <td>7</td>\n",
       "      <td>15</td>\n",
       "    </tr>\n",
       "    <tr>\n",
       "      <th>15</th>\n",
       "      <td>Burnley</td>\n",
       "      <td>39</td>\n",
       "      <td>-15</td>\n",
       "      <td>7</td>\n",
       "      <td>16</td>\n",
       "    </tr>\n",
       "    <tr>\n",
       "      <th>16</th>\n",
       "      <td>West Ham</td>\n",
       "      <td>38</td>\n",
       "      <td>-10</td>\n",
       "      <td>7</td>\n",
       "      <td>17</td>\n",
       "    </tr>\n",
       "    <tr>\n",
       "      <th>17</th>\n",
       "      <td>Aston Villa</td>\n",
       "      <td>35</td>\n",
       "      <td>-22</td>\n",
       "      <td>7</td>\n",
       "      <td>18</td>\n",
       "    </tr>\n",
       "    <tr>\n",
       "      <th>18</th>\n",
       "      <td>Sheffield United</td>\n",
       "      <td>34</td>\n",
       "      <td>-27</td>\n",
       "      <td>7</td>\n",
       "      <td>19</td>\n",
       "    </tr>\n",
       "  </tbody>\n",
       "</table>\n",
       "</div>"
      ],
      "text/plain": [
       "                team  final_pts  gd  sim  rank\n",
       "0         Man United         67  22    7     1\n",
       "1            Arsenal         67  18    7     2\n",
       "2            Chelsea         67  16    7     3\n",
       "3          Leicester         61  14    7     4\n",
       "4           Man City         59  29    7     5\n",
       "5          Liverpool         59  21    7     6\n",
       "6          Tottenham         53   8    7     7\n",
       "7          Newcastle         50  -4    7     8\n",
       "8        Southampton         46   7    7     9\n",
       "9             Fulham         46  -7    7    10\n",
       "10    Crystal Palace         45 -19    7    11\n",
       "11         West Brom         44  -9    7    12\n",
       "12           Everton         42  10    7    13\n",
       "13            Wolves         40 -14    7    14\n",
       "14          Brighton         40 -18    7    15\n",
       "15           Burnley         39 -15    7    16\n",
       "16          West Ham         38 -10    7    17\n",
       "17       Aston Villa         35 -22    7    18\n",
       "18  Sheffield United         34 -27    7    19"
      ]
     },
     "execution_count": 46,
     "metadata": {},
     "output_type": "execute_result"
    }
   ],
   "source": [
    "sim_season(7)"
   ]
  },
  {
   "cell_type": "markdown",
   "metadata": {},
   "source": [
    "We're now interested in obtaining the result for each one of our 10,000 simulations. We combine all the results in a single dataframe. The simulation group of each row is denoted by the `sim` column."
   ]
  },
  {
   "cell_type": "code",
   "execution_count": 47,
   "metadata": {
    "ExecuteTime": {
     "end_time": "2021-11-25T15:21:13.847796Z",
     "start_time": "2021-11-25T15:20:30.309526Z"
    }
   },
   "outputs": [
    {
     "data": {
      "application/vnd.jupyter.widget-view+json": {
       "model_id": "3c5b96132d7142f4b5d3daed9f498c30",
       "version_major": 2,
       "version_minor": 0
      },
      "text/plain": [
       "  0%|          | 0/10000 [00:00<?, ?it/s]"
      ]
     },
     "metadata": {},
     "output_type": "display_data"
    }
   ],
   "source": [
    "epl_sim = pd.DataFrame()\n",
    "\n",
    "values = range(1, n_sim+1)\n",
    "with tqdm(total=len(values), file=sys.stdout) as pbar:\n",
    "    for i in values:\n",
    "        pbar.set_description(f\"processing simulation: {i}\")\n",
    "        pbar.update()\n",
    "\n",
    "        epl_sim = epl_sim.append(sim_season(i))"
   ]
  },
  {
   "cell_type": "code",
   "execution_count": 48,
   "metadata": {
    "ExecuteTime": {
     "end_time": "2021-11-25T15:21:13.855067Z",
     "start_time": "2021-11-25T15:21:13.848478Z"
    }
   },
   "outputs": [
    {
     "data": {
      "text/html": [
       "<div>\n",
       "<style scoped>\n",
       "    .dataframe tbody tr th:only-of-type {\n",
       "        vertical-align: middle;\n",
       "    }\n",
       "\n",
       "    .dataframe tbody tr th {\n",
       "        vertical-align: top;\n",
       "    }\n",
       "\n",
       "    .dataframe thead th {\n",
       "        text-align: right;\n",
       "    }\n",
       "</style>\n",
       "<table border=\"1\" class=\"dataframe\">\n",
       "  <thead>\n",
       "    <tr style=\"text-align: right;\">\n",
       "      <th></th>\n",
       "      <th>team</th>\n",
       "      <th>final_pts</th>\n",
       "      <th>gd</th>\n",
       "      <th>sim</th>\n",
       "      <th>rank</th>\n",
       "    </tr>\n",
       "  </thead>\n",
       "  <tbody>\n",
       "    <tr>\n",
       "      <th>0</th>\n",
       "      <td>Arsenal</td>\n",
       "      <td>68</td>\n",
       "      <td>23</td>\n",
       "      <td>1</td>\n",
       "      <td>1</td>\n",
       "    </tr>\n",
       "    <tr>\n",
       "      <th>1</th>\n",
       "      <td>Man United</td>\n",
       "      <td>65</td>\n",
       "      <td>23</td>\n",
       "      <td>1</td>\n",
       "      <td>2</td>\n",
       "    </tr>\n",
       "    <tr>\n",
       "      <th>2</th>\n",
       "      <td>Tottenham</td>\n",
       "      <td>64</td>\n",
       "      <td>25</td>\n",
       "      <td>1</td>\n",
       "      <td>3</td>\n",
       "    </tr>\n",
       "    <tr>\n",
       "      <th>3</th>\n",
       "      <td>Man City</td>\n",
       "      <td>63</td>\n",
       "      <td>22</td>\n",
       "      <td>1</td>\n",
       "      <td>4</td>\n",
       "    </tr>\n",
       "    <tr>\n",
       "      <th>4</th>\n",
       "      <td>Liverpool</td>\n",
       "      <td>58</td>\n",
       "      <td>21</td>\n",
       "      <td>1</td>\n",
       "      <td>5</td>\n",
       "    </tr>\n",
       "  </tbody>\n",
       "</table>\n",
       "</div>"
      ],
      "text/plain": [
       "         team  final_pts  gd  sim  rank\n",
       "0     Arsenal         68  23    1     1\n",
       "1  Man United         65  23    1     2\n",
       "2   Tottenham         64  25    1     3\n",
       "3    Man City         63  22    1     4\n",
       "4   Liverpool         58  21    1     5"
      ]
     },
     "execution_count": 48,
     "metadata": {},
     "output_type": "execute_result"
    }
   ],
   "source": [
    "epl_sim.head()"
   ]
  },
  {
   "cell_type": "markdown",
   "metadata": {},
   "source": [
    "Let's take a look each team's chances of finishing at each position."
   ]
  },
  {
   "cell_type": "code",
   "execution_count": 49,
   "metadata": {
    "ExecuteTime": {
     "end_time": "2021-11-25T15:21:13.911437Z",
     "start_time": "2021-11-25T15:21:13.855647Z"
    }
   },
   "outputs": [
    {
     "data": {
      "text/html": [
       "<div>\n",
       "<style scoped>\n",
       "    .dataframe tbody tr th:only-of-type {\n",
       "        vertical-align: middle;\n",
       "    }\n",
       "\n",
       "    .dataframe tbody tr th {\n",
       "        vertical-align: top;\n",
       "    }\n",
       "\n",
       "    .dataframe thead th {\n",
       "        text-align: right;\n",
       "    }\n",
       "</style>\n",
       "<table border=\"1\" class=\"dataframe\">\n",
       "  <thead>\n",
       "    <tr style=\"text-align: right;\">\n",
       "      <th>rank</th>\n",
       "      <th>1</th>\n",
       "      <th>2</th>\n",
       "      <th>3</th>\n",
       "      <th>4</th>\n",
       "      <th>5</th>\n",
       "      <th>6</th>\n",
       "      <th>7</th>\n",
       "      <th>8</th>\n",
       "      <th>9</th>\n",
       "      <th>10</th>\n",
       "      <th>11</th>\n",
       "      <th>12</th>\n",
       "      <th>13</th>\n",
       "      <th>14</th>\n",
       "      <th>15</th>\n",
       "      <th>16</th>\n",
       "      <th>17</th>\n",
       "      <th>18</th>\n",
       "      <th>19</th>\n",
       "    </tr>\n",
       "    <tr>\n",
       "      <th>team</th>\n",
       "      <th></th>\n",
       "      <th></th>\n",
       "      <th></th>\n",
       "      <th></th>\n",
       "      <th></th>\n",
       "      <th></th>\n",
       "      <th></th>\n",
       "      <th></th>\n",
       "      <th></th>\n",
       "      <th></th>\n",
       "      <th></th>\n",
       "      <th></th>\n",
       "      <th></th>\n",
       "      <th></th>\n",
       "      <th></th>\n",
       "      <th></th>\n",
       "      <th></th>\n",
       "      <th></th>\n",
       "      <th></th>\n",
       "    </tr>\n",
       "  </thead>\n",
       "  <tbody>\n",
       "    <tr>\n",
       "      <th>Arsenal</th>\n",
       "      <td>0.1615</td>\n",
       "      <td>0.1593</td>\n",
       "      <td>0.1540</td>\n",
       "      <td>0.1331</td>\n",
       "      <td>0.1140</td>\n",
       "      <td>0.0852</td>\n",
       "      <td>0.0611</td>\n",
       "      <td>0.0438</td>\n",
       "      <td>0.0321</td>\n",
       "      <td>0.0214</td>\n",
       "      <td>0.0118</td>\n",
       "      <td>0.0080</td>\n",
       "      <td>0.0048</td>\n",
       "      <td>0.0046</td>\n",
       "      <td>0.0026</td>\n",
       "      <td>0.0017</td>\n",
       "      <td>0.0005</td>\n",
       "      <td>0.0004</td>\n",
       "      <td>0.0001</td>\n",
       "    </tr>\n",
       "    <tr>\n",
       "      <th>Aston Villa</th>\n",
       "      <td>0.0012</td>\n",
       "      <td>0.0044</td>\n",
       "      <td>0.0063</td>\n",
       "      <td>0.0143</td>\n",
       "      <td>0.0219</td>\n",
       "      <td>0.0328</td>\n",
       "      <td>0.0524</td>\n",
       "      <td>0.0623</td>\n",
       "      <td>0.0707</td>\n",
       "      <td>0.0758</td>\n",
       "      <td>0.0817</td>\n",
       "      <td>0.0841</td>\n",
       "      <td>0.0857</td>\n",
       "      <td>0.0812</td>\n",
       "      <td>0.0814</td>\n",
       "      <td>0.0708</td>\n",
       "      <td>0.0686</td>\n",
       "      <td>0.0620</td>\n",
       "      <td>0.0424</td>\n",
       "    </tr>\n",
       "    <tr>\n",
       "      <th>Brighton</th>\n",
       "      <td>0.0001</td>\n",
       "      <td>0.0002</td>\n",
       "      <td>0.0008</td>\n",
       "      <td>0.0023</td>\n",
       "      <td>0.0029</td>\n",
       "      <td>0.0067</td>\n",
       "      <td>0.0109</td>\n",
       "      <td>0.0187</td>\n",
       "      <td>0.0250</td>\n",
       "      <td>0.0361</td>\n",
       "      <td>0.0465</td>\n",
       "      <td>0.0519</td>\n",
       "      <td>0.0645</td>\n",
       "      <td>0.0760</td>\n",
       "      <td>0.0932</td>\n",
       "      <td>0.1166</td>\n",
       "      <td>0.1340</td>\n",
       "      <td>0.1531</td>\n",
       "      <td>0.1605</td>\n",
       "    </tr>\n",
       "    <tr>\n",
       "      <th>Burnley</th>\n",
       "      <td>0.0004</td>\n",
       "      <td>0.0007</td>\n",
       "      <td>0.0020</td>\n",
       "      <td>0.0031</td>\n",
       "      <td>0.0062</td>\n",
       "      <td>0.0126</td>\n",
       "      <td>0.0223</td>\n",
       "      <td>0.0279</td>\n",
       "      <td>0.0384</td>\n",
       "      <td>0.0467</td>\n",
       "      <td>0.0631</td>\n",
       "      <td>0.0694</td>\n",
       "      <td>0.0788</td>\n",
       "      <td>0.0863</td>\n",
       "      <td>0.0939</td>\n",
       "      <td>0.1087</td>\n",
       "      <td>0.1154</td>\n",
       "      <td>0.1181</td>\n",
       "      <td>0.1060</td>\n",
       "    </tr>\n",
       "    <tr>\n",
       "      <th>Chelsea</th>\n",
       "      <td>0.1664</td>\n",
       "      <td>0.1697</td>\n",
       "      <td>0.1506</td>\n",
       "      <td>0.1367</td>\n",
       "      <td>0.1100</td>\n",
       "      <td>0.0857</td>\n",
       "      <td>0.0586</td>\n",
       "      <td>0.0416</td>\n",
       "      <td>0.0290</td>\n",
       "      <td>0.0183</td>\n",
       "      <td>0.0119</td>\n",
       "      <td>0.0069</td>\n",
       "      <td>0.0059</td>\n",
       "      <td>0.0046</td>\n",
       "      <td>0.0018</td>\n",
       "      <td>0.0012</td>\n",
       "      <td>0.0009</td>\n",
       "      <td>0.0001</td>\n",
       "      <td>0.0001</td>\n",
       "    </tr>\n",
       "    <tr>\n",
       "      <th>Crystal Palace</th>\n",
       "      <td>0.0006</td>\n",
       "      <td>0.0023</td>\n",
       "      <td>0.0057</td>\n",
       "      <td>0.0085</td>\n",
       "      <td>0.0147</td>\n",
       "      <td>0.0272</td>\n",
       "      <td>0.0363</td>\n",
       "      <td>0.0491</td>\n",
       "      <td>0.0585</td>\n",
       "      <td>0.0671</td>\n",
       "      <td>0.0755</td>\n",
       "      <td>0.0789</td>\n",
       "      <td>0.0834</td>\n",
       "      <td>0.0852</td>\n",
       "      <td>0.0898</td>\n",
       "      <td>0.0853</td>\n",
       "      <td>0.0916</td>\n",
       "      <td>0.0783</td>\n",
       "      <td>0.0620</td>\n",
       "    </tr>\n",
       "    <tr>\n",
       "      <th>Everton</th>\n",
       "      <td>0.0091</td>\n",
       "      <td>0.0179</td>\n",
       "      <td>0.0263</td>\n",
       "      <td>0.0430</td>\n",
       "      <td>0.0644</td>\n",
       "      <td>0.0865</td>\n",
       "      <td>0.0935</td>\n",
       "      <td>0.1043</td>\n",
       "      <td>0.0964</td>\n",
       "      <td>0.0883</td>\n",
       "      <td>0.0785</td>\n",
       "      <td>0.0666</td>\n",
       "      <td>0.0575</td>\n",
       "      <td>0.0500</td>\n",
       "      <td>0.0380</td>\n",
       "      <td>0.0341</td>\n",
       "      <td>0.0210</td>\n",
       "      <td>0.0165</td>\n",
       "      <td>0.0081</td>\n",
       "    </tr>\n",
       "    <tr>\n",
       "      <th>Fulham</th>\n",
       "      <td>0.0007</td>\n",
       "      <td>0.0018</td>\n",
       "      <td>0.0041</td>\n",
       "      <td>0.0067</td>\n",
       "      <td>0.0147</td>\n",
       "      <td>0.0256</td>\n",
       "      <td>0.0338</td>\n",
       "      <td>0.0487</td>\n",
       "      <td>0.0563</td>\n",
       "      <td>0.0662</td>\n",
       "      <td>0.0751</td>\n",
       "      <td>0.0863</td>\n",
       "      <td>0.0894</td>\n",
       "      <td>0.0904</td>\n",
       "      <td>0.0918</td>\n",
       "      <td>0.0890</td>\n",
       "      <td>0.0868</td>\n",
       "      <td>0.0756</td>\n",
       "      <td>0.0570</td>\n",
       "    </tr>\n",
       "    <tr>\n",
       "      <th>Leicester</th>\n",
       "      <td>0.0192</td>\n",
       "      <td>0.0393</td>\n",
       "      <td>0.0523</td>\n",
       "      <td>0.0739</td>\n",
       "      <td>0.0836</td>\n",
       "      <td>0.1018</td>\n",
       "      <td>0.1108</td>\n",
       "      <td>0.1009</td>\n",
       "      <td>0.0902</td>\n",
       "      <td>0.0773</td>\n",
       "      <td>0.0582</td>\n",
       "      <td>0.0519</td>\n",
       "      <td>0.0403</td>\n",
       "      <td>0.0331</td>\n",
       "      <td>0.0249</td>\n",
       "      <td>0.0164</td>\n",
       "      <td>0.0128</td>\n",
       "      <td>0.0086</td>\n",
       "      <td>0.0045</td>\n",
       "    </tr>\n",
       "    <tr>\n",
       "      <th>Liverpool</th>\n",
       "      <td>0.1543</td>\n",
       "      <td>0.1518</td>\n",
       "      <td>0.1543</td>\n",
       "      <td>0.1339</td>\n",
       "      <td>0.1193</td>\n",
       "      <td>0.0848</td>\n",
       "      <td>0.0664</td>\n",
       "      <td>0.0451</td>\n",
       "      <td>0.0345</td>\n",
       "      <td>0.0192</td>\n",
       "      <td>0.0134</td>\n",
       "      <td>0.0079</td>\n",
       "      <td>0.0064</td>\n",
       "      <td>0.0032</td>\n",
       "      <td>0.0021</td>\n",
       "      <td>0.0021</td>\n",
       "      <td>0.0012</td>\n",
       "      <td>0.0001</td>\n",
       "      <td>0.0000</td>\n",
       "    </tr>\n",
       "    <tr>\n",
       "      <th>Man City</th>\n",
       "      <td>0.2373</td>\n",
       "      <td>0.1789</td>\n",
       "      <td>0.1497</td>\n",
       "      <td>0.1268</td>\n",
       "      <td>0.0958</td>\n",
       "      <td>0.0744</td>\n",
       "      <td>0.0462</td>\n",
       "      <td>0.0348</td>\n",
       "      <td>0.0203</td>\n",
       "      <td>0.0124</td>\n",
       "      <td>0.0086</td>\n",
       "      <td>0.0066</td>\n",
       "      <td>0.0030</td>\n",
       "      <td>0.0028</td>\n",
       "      <td>0.0012</td>\n",
       "      <td>0.0007</td>\n",
       "      <td>0.0003</td>\n",
       "      <td>0.0002</td>\n",
       "      <td>0.0000</td>\n",
       "    </tr>\n",
       "    <tr>\n",
       "      <th>Man United</th>\n",
       "      <td>0.1890</td>\n",
       "      <td>0.1722</td>\n",
       "      <td>0.1469</td>\n",
       "      <td>0.1255</td>\n",
       "      <td>0.1129</td>\n",
       "      <td>0.0820</td>\n",
       "      <td>0.0598</td>\n",
       "      <td>0.0380</td>\n",
       "      <td>0.0269</td>\n",
       "      <td>0.0192</td>\n",
       "      <td>0.0098</td>\n",
       "      <td>0.0056</td>\n",
       "      <td>0.0054</td>\n",
       "      <td>0.0026</td>\n",
       "      <td>0.0024</td>\n",
       "      <td>0.0012</td>\n",
       "      <td>0.0003</td>\n",
       "      <td>0.0003</td>\n",
       "      <td>0.0000</td>\n",
       "    </tr>\n",
       "    <tr>\n",
       "      <th>Newcastle</th>\n",
       "      <td>0.0007</td>\n",
       "      <td>0.0029</td>\n",
       "      <td>0.0087</td>\n",
       "      <td>0.0127</td>\n",
       "      <td>0.0186</td>\n",
       "      <td>0.0301</td>\n",
       "      <td>0.0444</td>\n",
       "      <td>0.0559</td>\n",
       "      <td>0.0648</td>\n",
       "      <td>0.0790</td>\n",
       "      <td>0.0888</td>\n",
       "      <td>0.0889</td>\n",
       "      <td>0.0843</td>\n",
       "      <td>0.0855</td>\n",
       "      <td>0.0818</td>\n",
       "      <td>0.0747</td>\n",
       "      <td>0.0721</td>\n",
       "      <td>0.0602</td>\n",
       "      <td>0.0459</td>\n",
       "    </tr>\n",
       "    <tr>\n",
       "      <th>Sheffield United</th>\n",
       "      <td>0.0002</td>\n",
       "      <td>0.0002</td>\n",
       "      <td>0.0012</td>\n",
       "      <td>0.0016</td>\n",
       "      <td>0.0027</td>\n",
       "      <td>0.0060</td>\n",
       "      <td>0.0086</td>\n",
       "      <td>0.0146</td>\n",
       "      <td>0.0234</td>\n",
       "      <td>0.0306</td>\n",
       "      <td>0.0389</td>\n",
       "      <td>0.0522</td>\n",
       "      <td>0.0610</td>\n",
       "      <td>0.0769</td>\n",
       "      <td>0.0938</td>\n",
       "      <td>0.1085</td>\n",
       "      <td>0.1375</td>\n",
       "      <td>0.1751</td>\n",
       "      <td>0.1670</td>\n",
       "    </tr>\n",
       "    <tr>\n",
       "      <th>Southampton</th>\n",
       "      <td>0.0037</td>\n",
       "      <td>0.0082</td>\n",
       "      <td>0.0179</td>\n",
       "      <td>0.0301</td>\n",
       "      <td>0.0425</td>\n",
       "      <td>0.0614</td>\n",
       "      <td>0.0792</td>\n",
       "      <td>0.0833</td>\n",
       "      <td>0.0921</td>\n",
       "      <td>0.0899</td>\n",
       "      <td>0.0790</td>\n",
       "      <td>0.0818</td>\n",
       "      <td>0.0771</td>\n",
       "      <td>0.0655</td>\n",
       "      <td>0.0558</td>\n",
       "      <td>0.0498</td>\n",
       "      <td>0.0375</td>\n",
       "      <td>0.0297</td>\n",
       "      <td>0.0155</td>\n",
       "    </tr>\n",
       "    <tr>\n",
       "      <th>Tottenham</th>\n",
       "      <td>0.0571</td>\n",
       "      <td>0.0872</td>\n",
       "      <td>0.1047</td>\n",
       "      <td>0.1184</td>\n",
       "      <td>0.1207</td>\n",
       "      <td>0.1186</td>\n",
       "      <td>0.0999</td>\n",
       "      <td>0.0746</td>\n",
       "      <td>0.0627</td>\n",
       "      <td>0.0428</td>\n",
       "      <td>0.0346</td>\n",
       "      <td>0.0258</td>\n",
       "      <td>0.0168</td>\n",
       "      <td>0.0131</td>\n",
       "      <td>0.0110</td>\n",
       "      <td>0.0066</td>\n",
       "      <td>0.0028</td>\n",
       "      <td>0.0018</td>\n",
       "      <td>0.0008</td>\n",
       "    </tr>\n",
       "    <tr>\n",
       "      <th>West Brom</th>\n",
       "      <td>0.0003</td>\n",
       "      <td>0.0015</td>\n",
       "      <td>0.0042</td>\n",
       "      <td>0.0062</td>\n",
       "      <td>0.0120</td>\n",
       "      <td>0.0193</td>\n",
       "      <td>0.0287</td>\n",
       "      <td>0.0421</td>\n",
       "      <td>0.0512</td>\n",
       "      <td>0.0635</td>\n",
       "      <td>0.0679</td>\n",
       "      <td>0.0787</td>\n",
       "      <td>0.0880</td>\n",
       "      <td>0.0908</td>\n",
       "      <td>0.0956</td>\n",
       "      <td>0.0928</td>\n",
       "      <td>0.0940</td>\n",
       "      <td>0.0944</td>\n",
       "      <td>0.0688</td>\n",
       "    </tr>\n",
       "    <tr>\n",
       "      <th>West Ham</th>\n",
       "      <td>0.0018</td>\n",
       "      <td>0.0054</td>\n",
       "      <td>0.0116</td>\n",
       "      <td>0.0215</td>\n",
       "      <td>0.0364</td>\n",
       "      <td>0.0430</td>\n",
       "      <td>0.0578</td>\n",
       "      <td>0.0769</td>\n",
       "      <td>0.0767</td>\n",
       "      <td>0.0886</td>\n",
       "      <td>0.0897</td>\n",
       "      <td>0.0787</td>\n",
       "      <td>0.0767</td>\n",
       "      <td>0.0758</td>\n",
       "      <td>0.0708</td>\n",
       "      <td>0.0645</td>\n",
       "      <td>0.0539</td>\n",
       "      <td>0.0439</td>\n",
       "      <td>0.0263</td>\n",
       "    </tr>\n",
       "    <tr>\n",
       "      <th>Wolves</th>\n",
       "      <td>0.0009</td>\n",
       "      <td>0.0028</td>\n",
       "      <td>0.0055</td>\n",
       "      <td>0.0107</td>\n",
       "      <td>0.0169</td>\n",
       "      <td>0.0262</td>\n",
       "      <td>0.0395</td>\n",
       "      <td>0.0499</td>\n",
       "      <td>0.0642</td>\n",
       "      <td>0.0739</td>\n",
       "      <td>0.0821</td>\n",
       "      <td>0.0861</td>\n",
       "      <td>0.0881</td>\n",
       "      <td>0.0885</td>\n",
       "      <td>0.0819</td>\n",
       "      <td>0.0865</td>\n",
       "      <td>0.0757</td>\n",
       "      <td>0.0699</td>\n",
       "      <td>0.0507</td>\n",
       "    </tr>\n",
       "  </tbody>\n",
       "</table>\n",
       "</div>"
      ],
      "text/plain": [
       "rank                  1       2       3       4       5       6       7   \\\n",
       "team                                                                       \n",
       "Arsenal           0.1615  0.1593  0.1540  0.1331  0.1140  0.0852  0.0611   \n",
       "Aston Villa       0.0012  0.0044  0.0063  0.0143  0.0219  0.0328  0.0524   \n",
       "Brighton          0.0001  0.0002  0.0008  0.0023  0.0029  0.0067  0.0109   \n",
       "Burnley           0.0004  0.0007  0.0020  0.0031  0.0062  0.0126  0.0223   \n",
       "Chelsea           0.1664  0.1697  0.1506  0.1367  0.1100  0.0857  0.0586   \n",
       "Crystal Palace    0.0006  0.0023  0.0057  0.0085  0.0147  0.0272  0.0363   \n",
       "Everton           0.0091  0.0179  0.0263  0.0430  0.0644  0.0865  0.0935   \n",
       "Fulham            0.0007  0.0018  0.0041  0.0067  0.0147  0.0256  0.0338   \n",
       "Leicester         0.0192  0.0393  0.0523  0.0739  0.0836  0.1018  0.1108   \n",
       "Liverpool         0.1543  0.1518  0.1543  0.1339  0.1193  0.0848  0.0664   \n",
       "Man City          0.2373  0.1789  0.1497  0.1268  0.0958  0.0744  0.0462   \n",
       "Man United        0.1890  0.1722  0.1469  0.1255  0.1129  0.0820  0.0598   \n",
       "Newcastle         0.0007  0.0029  0.0087  0.0127  0.0186  0.0301  0.0444   \n",
       "Sheffield United  0.0002  0.0002  0.0012  0.0016  0.0027  0.0060  0.0086   \n",
       "Southampton       0.0037  0.0082  0.0179  0.0301  0.0425  0.0614  0.0792   \n",
       "Tottenham         0.0571  0.0872  0.1047  0.1184  0.1207  0.1186  0.0999   \n",
       "West Brom         0.0003  0.0015  0.0042  0.0062  0.0120  0.0193  0.0287   \n",
       "West Ham          0.0018  0.0054  0.0116  0.0215  0.0364  0.0430  0.0578   \n",
       "Wolves            0.0009  0.0028  0.0055  0.0107  0.0169  0.0262  0.0395   \n",
       "\n",
       "rank                  8       9       10      11      12      13      14  \\\n",
       "team                                                                       \n",
       "Arsenal           0.0438  0.0321  0.0214  0.0118  0.0080  0.0048  0.0046   \n",
       "Aston Villa       0.0623  0.0707  0.0758  0.0817  0.0841  0.0857  0.0812   \n",
       "Brighton          0.0187  0.0250  0.0361  0.0465  0.0519  0.0645  0.0760   \n",
       "Burnley           0.0279  0.0384  0.0467  0.0631  0.0694  0.0788  0.0863   \n",
       "Chelsea           0.0416  0.0290  0.0183  0.0119  0.0069  0.0059  0.0046   \n",
       "Crystal Palace    0.0491  0.0585  0.0671  0.0755  0.0789  0.0834  0.0852   \n",
       "Everton           0.1043  0.0964  0.0883  0.0785  0.0666  0.0575  0.0500   \n",
       "Fulham            0.0487  0.0563  0.0662  0.0751  0.0863  0.0894  0.0904   \n",
       "Leicester         0.1009  0.0902  0.0773  0.0582  0.0519  0.0403  0.0331   \n",
       "Liverpool         0.0451  0.0345  0.0192  0.0134  0.0079  0.0064  0.0032   \n",
       "Man City          0.0348  0.0203  0.0124  0.0086  0.0066  0.0030  0.0028   \n",
       "Man United        0.0380  0.0269  0.0192  0.0098  0.0056  0.0054  0.0026   \n",
       "Newcastle         0.0559  0.0648  0.0790  0.0888  0.0889  0.0843  0.0855   \n",
       "Sheffield United  0.0146  0.0234  0.0306  0.0389  0.0522  0.0610  0.0769   \n",
       "Southampton       0.0833  0.0921  0.0899  0.0790  0.0818  0.0771  0.0655   \n",
       "Tottenham         0.0746  0.0627  0.0428  0.0346  0.0258  0.0168  0.0131   \n",
       "West Brom         0.0421  0.0512  0.0635  0.0679  0.0787  0.0880  0.0908   \n",
       "West Ham          0.0769  0.0767  0.0886  0.0897  0.0787  0.0767  0.0758   \n",
       "Wolves            0.0499  0.0642  0.0739  0.0821  0.0861  0.0881  0.0885   \n",
       "\n",
       "rank                  15      16      17      18      19  \n",
       "team                                                      \n",
       "Arsenal           0.0026  0.0017  0.0005  0.0004  0.0001  \n",
       "Aston Villa       0.0814  0.0708  0.0686  0.0620  0.0424  \n",
       "Brighton          0.0932  0.1166  0.1340  0.1531  0.1605  \n",
       "Burnley           0.0939  0.1087  0.1154  0.1181  0.1060  \n",
       "Chelsea           0.0018  0.0012  0.0009  0.0001  0.0001  \n",
       "Crystal Palace    0.0898  0.0853  0.0916  0.0783  0.0620  \n",
       "Everton           0.0380  0.0341  0.0210  0.0165  0.0081  \n",
       "Fulham            0.0918  0.0890  0.0868  0.0756  0.0570  \n",
       "Leicester         0.0249  0.0164  0.0128  0.0086  0.0045  \n",
       "Liverpool         0.0021  0.0021  0.0012  0.0001  0.0000  \n",
       "Man City          0.0012  0.0007  0.0003  0.0002  0.0000  \n",
       "Man United        0.0024  0.0012  0.0003  0.0003  0.0000  \n",
       "Newcastle         0.0818  0.0747  0.0721  0.0602  0.0459  \n",
       "Sheffield United  0.0938  0.1085  0.1375  0.1751  0.1670  \n",
       "Southampton       0.0558  0.0498  0.0375  0.0297  0.0155  \n",
       "Tottenham         0.0110  0.0066  0.0028  0.0018  0.0008  \n",
       "West Brom         0.0956  0.0928  0.0940  0.0944  0.0688  \n",
       "West Ham          0.0708  0.0645  0.0539  0.0439  0.0263  \n",
       "Wolves            0.0819  0.0865  0.0757  0.0699  0.0507  "
      ]
     },
     "execution_count": 49,
     "metadata": {},
     "output_type": "execute_result"
    }
   ],
   "source": [
    "epl_sim.groupby('team')['rank'].value_counts(normalize=True).unstack().fillna(0)"
   ]
  },
  {
   "cell_type": "code",
   "execution_count": 50,
   "metadata": {
    "ExecuteTime": {
     "end_time": "2021-11-25T15:21:13.916524Z",
     "start_time": "2021-11-25T15:21:13.912827Z"
    }
   },
   "outputs": [
    {
     "data": {
      "text/plain": [
       "0.6141"
      ]
     },
     "execution_count": 50,
     "metadata": {},
     "output_type": "execute_result"
    }
   ],
   "source": [
    "0.1622 + 0.1637 + 0.1523 + 0.1359"
   ]
  },
  {
   "cell_type": "markdown",
   "metadata": {},
   "source": [
    "Interpretation example: Arsenal has a 0.1698 (16.98%) probability of finishing first, 0.1712 (17.12%) probability of finishing second, and so on and so forth. \n",
    "\n",
    "In order to get the probability of Arsenal finishing atleast at a certain position, we add up the probabilities of all positions until that particular position. For example, the probability of Arsenal finishing in the top 4 is the sum of probabilities of positions 1, 2, 3 and 4 i.e, 0.1622 + 0.1637 + 0.1523 + 0.1359 = 0.6141 (61.41%)"
   ]
  },
  {
   "cell_type": "markdown",
   "metadata": {},
   "source": [
    "From the simulation results, it would be interesting to see which team has the highest chances of winning the league."
   ]
  },
  {
   "cell_type": "code",
   "execution_count": 51,
   "metadata": {
    "ExecuteTime": {
     "end_time": "2021-11-25T15:21:13.922649Z",
     "start_time": "2021-11-25T15:21:13.917429Z"
    }
   },
   "outputs": [
    {
     "data": {
      "text/plain": [
       "Man City      23.62\n",
       "Man United    18.82\n",
       "Chelsea       16.57\n",
       "Arsenal       16.08\n",
       "Name: team, dtype: float64"
      ]
     },
     "execution_count": 51,
     "metadata": {},
     "output_type": "execute_result"
    }
   ],
   "source": [
    "np.round(epl_sim[epl_sim['rank'] == 1].team.value_counts(normalize=True).nlargest(4) * 100, 2)"
   ]
  },
  {
   "cell_type": "markdown",
   "metadata": {},
   "source": [
    "Well this isn't surprising, as Man City would have the highest scoring rates since they've dominated the EPL a lot recently."
   ]
  },
  {
   "cell_type": "markdown",
   "metadata": {},
   "source": [
    "A top 4 finish at the end of the season implies that the team has qualified for the UEFA Champions League. Let's have a look at the teams which dominate these rankings."
   ]
  },
  {
   "cell_type": "code",
   "execution_count": 52,
   "metadata": {
    "ExecuteTime": {
     "end_time": "2021-11-25T15:21:13.930058Z",
     "start_time": "2021-11-25T15:21:13.923782Z"
    }
   },
   "outputs": [
    {
     "data": {
      "text/plain": [
       "Man City      17.20\n",
       "Man United    15.73\n",
       "Chelsea       15.48\n",
       "Arsenal       15.10\n",
       "Liverpool     14.76\n",
       "Tottenham      9.12\n",
       "Leicester      4.59\n",
       "Name: team, dtype: float64"
      ]
     },
     "execution_count": 52,
     "metadata": {},
     "output_type": "execute_result"
    }
   ],
   "source": [
    "np.round(epl_sim[epl_sim['rank'].isin([1, 2, 3, 4])].team.value_counts(normalize=True).nlargest(7) * 100, 2)"
   ]
  },
  {
   "cell_type": "markdown",
   "metadata": {},
   "source": [
    "The EPL is dominated clubs like Man City, Man Utd, Chelsea, Arsenal and Liverpool, therefore its not a suprise to see these clubs dominating the top 4 positions. However, this list also includes Leicester City. This is due to their magical season of 2015-2016, where they shocked the world by winning the title. Since then, Leicester City has been performing consistently well and therefore, has secured its position as one of the top clubs in the EPL."
   ]
  },
  {
   "cell_type": "markdown",
   "metadata": {},
   "source": [
    "Let's have a look at the final standings by using the entire simulation data"
   ]
  },
  {
   "cell_type": "code",
   "execution_count": 53,
   "metadata": {
    "ExecuteTime": {
     "end_time": "2021-11-25T15:21:13.951800Z",
     "start_time": "2021-11-25T15:21:13.931634Z"
    }
   },
   "outputs": [
    {
     "data": {
      "text/html": [
       "<div>\n",
       "<style scoped>\n",
       "    .dataframe tbody tr th:only-of-type {\n",
       "        vertical-align: middle;\n",
       "    }\n",
       "\n",
       "    .dataframe tbody tr th {\n",
       "        vertical-align: top;\n",
       "    }\n",
       "\n",
       "    .dataframe thead th {\n",
       "        text-align: right;\n",
       "    }\n",
       "</style>\n",
       "<table border=\"1\" class=\"dataframe\">\n",
       "  <thead>\n",
       "    <tr style=\"text-align: right;\">\n",
       "      <th></th>\n",
       "      <th>final_pts</th>\n",
       "      <th>gd</th>\n",
       "    </tr>\n",
       "    <tr>\n",
       "      <th>team</th>\n",
       "      <th></th>\n",
       "      <th></th>\n",
       "    </tr>\n",
       "  </thead>\n",
       "  <tbody>\n",
       "    <tr>\n",
       "      <th>Man City</th>\n",
       "      <td>63.0</td>\n",
       "      <td>22.0</td>\n",
       "    </tr>\n",
       "    <tr>\n",
       "      <th>Chelsea</th>\n",
       "      <td>62.0</td>\n",
       "      <td>19.0</td>\n",
       "    </tr>\n",
       "    <tr>\n",
       "      <th>Man United</th>\n",
       "      <td>62.0</td>\n",
       "      <td>19.0</td>\n",
       "    </tr>\n",
       "    <tr>\n",
       "      <th>Arsenal</th>\n",
       "      <td>62.0</td>\n",
       "      <td>18.0</td>\n",
       "    </tr>\n",
       "    <tr>\n",
       "      <th>Liverpool</th>\n",
       "      <td>61.0</td>\n",
       "      <td>18.0</td>\n",
       "    </tr>\n",
       "    <tr>\n",
       "      <th>Tottenham</th>\n",
       "      <td>57.0</td>\n",
       "      <td>11.0</td>\n",
       "    </tr>\n",
       "    <tr>\n",
       "      <th>Leicester</th>\n",
       "      <td>53.0</td>\n",
       "      <td>4.0</td>\n",
       "    </tr>\n",
       "    <tr>\n",
       "      <th>Everton</th>\n",
       "      <td>50.0</td>\n",
       "      <td>0.0</td>\n",
       "    </tr>\n",
       "    <tr>\n",
       "      <th>Southampton</th>\n",
       "      <td>48.0</td>\n",
       "      <td>-3.0</td>\n",
       "    </tr>\n",
       "    <tr>\n",
       "      <th>West Ham</th>\n",
       "      <td>46.0</td>\n",
       "      <td>-6.0</td>\n",
       "    </tr>\n",
       "    <tr>\n",
       "      <th>Aston Villa</th>\n",
       "      <td>45.0</td>\n",
       "      <td>-8.0</td>\n",
       "    </tr>\n",
       "    <tr>\n",
       "      <th>Newcastle</th>\n",
       "      <td>44.0</td>\n",
       "      <td>-8.0</td>\n",
       "    </tr>\n",
       "    <tr>\n",
       "      <th>Wolves</th>\n",
       "      <td>44.0</td>\n",
       "      <td>-9.0</td>\n",
       "    </tr>\n",
       "    <tr>\n",
       "      <th>Crystal Palace</th>\n",
       "      <td>43.0</td>\n",
       "      <td>-10.0</td>\n",
       "    </tr>\n",
       "    <tr>\n",
       "      <th>Fulham</th>\n",
       "      <td>43.0</td>\n",
       "      <td>-10.0</td>\n",
       "    </tr>\n",
       "    <tr>\n",
       "      <th>West Brom</th>\n",
       "      <td>42.0</td>\n",
       "      <td>-11.0</td>\n",
       "    </tr>\n",
       "    <tr>\n",
       "      <th>Burnley</th>\n",
       "      <td>40.0</td>\n",
       "      <td>-13.0</td>\n",
       "    </tr>\n",
       "    <tr>\n",
       "      <th>Brighton</th>\n",
       "      <td>38.0</td>\n",
       "      <td>-16.0</td>\n",
       "    </tr>\n",
       "    <tr>\n",
       "      <th>Sheffield United</th>\n",
       "      <td>38.0</td>\n",
       "      <td>-16.0</td>\n",
       "    </tr>\n",
       "  </tbody>\n",
       "</table>\n",
       "</div>"
      ],
      "text/plain": [
       "                  final_pts    gd\n",
       "team                             \n",
       "Man City               63.0  22.0\n",
       "Chelsea                62.0  19.0\n",
       "Man United             62.0  19.0\n",
       "Arsenal                62.0  18.0\n",
       "Liverpool              61.0  18.0\n",
       "Tottenham              57.0  11.0\n",
       "Leicester              53.0   4.0\n",
       "Everton                50.0   0.0\n",
       "Southampton            48.0  -3.0\n",
       "West Ham               46.0  -6.0\n",
       "Aston Villa            45.0  -8.0\n",
       "Newcastle              44.0  -8.0\n",
       "Wolves                 44.0  -9.0\n",
       "Crystal Palace         43.0 -10.0\n",
       "Fulham                 43.0 -10.0\n",
       "West Brom              42.0 -11.0\n",
       "Burnley                40.0 -13.0\n",
       "Brighton               38.0 -16.0\n",
       "Sheffield United       38.0 -16.0"
      ]
     },
     "execution_count": 53,
     "metadata": {},
     "output_type": "execute_result"
    }
   ],
   "source": [
    "epl_sim.groupby('team')[['final_pts', 'gd']].median().sort_values(['final_pts', 'gd'], ascending=False)"
   ]
  },
  {
   "cell_type": "markdown",
   "metadata": {},
   "source": [
    "#### Limitations"
   ]
  },
  {
   "cell_type": "markdown",
   "metadata": {},
   "source": [
    "- Our approach is based on the assumption that the number of goals scored may be correctly represented by a Poisson distribution. The model results will be inaccurate if that assumption is incorrect. The number of occurrences in half that time period follows a Poisson distribution with mean λ/2, given a Poisson distribution with mean λ. In soccer terms, the first and second halves of a football match should have an equal number of goals. Regrettably, this does not appear to be the case."
   ]
  },
  {
   "cell_type": "code",
   "execution_count": 131,
   "metadata": {
    "ExecuteTime": {
     "end_time": "2021-11-25T16:59:31.143904Z",
     "start_time": "2021-11-25T16:59:31.126999Z"
    }
   },
   "outputs": [
    {
     "name": "stderr",
     "output_type": "stream",
     "text": [
      "/var/folders/z4/hdvs0wyx3hsgmt7j31w_d2w40000gn/T/ipykernel_1051/656868209.py:2: SettingWithCopyWarning: \n",
      "A value is trying to be set on a copy of a slice from a DataFrame.\n",
      "Try using .loc[row_indexer,col_indexer] = value instead\n",
      "\n",
      "See the caveats in the documentation: https://pandas.pydata.org/pandas-docs/stable/user_guide/indexing.html#returning-a-view-versus-a-copy\n",
      "  halves['First Half'] = halves['HTHG'] + halves['HTAG']\n",
      "/var/folders/z4/hdvs0wyx3hsgmt7j31w_d2w40000gn/T/ipykernel_1051/656868209.py:3: SettingWithCopyWarning: \n",
      "A value is trying to be set on a copy of a slice from a DataFrame.\n",
      "Try using .loc[row_indexer,col_indexer] = value instead\n",
      "\n",
      "See the caveats in the documentation: https://pandas.pydata.org/pandas-docs/stable/user_guide/indexing.html#returning-a-view-versus-a-copy\n",
      "  halves['Second Half'] = (halves['FTHG'] + halves['FTAG']) - halves['First Half']\n"
     ]
    },
    {
     "data": {
      "text/plain": [
       "First Half     1.186491\n",
       "Second Half    1.498596\n",
       "dtype: float64"
      ]
     },
     "execution_count": 131,
     "metadata": {},
     "output_type": "execute_result"
    }
   ],
   "source": [
    "halves = epl_full[['FTHG', 'FTAG', 'HTHG', 'HTAG']]\n",
    "halves['First Half'] = halves['HTHG'] + halves['HTAG']\n",
    "halves['Second Half'] = (halves['FTHG'] + halves['FTAG']) - halves['First Half']\n",
    "halves = halves[['First Half', 'Second Half']]\n",
    "halves.mean()"
   ]
  },
  {
   "cell_type": "code",
   "execution_count": 132,
   "metadata": {
    "ExecuteTime": {
     "end_time": "2021-11-25T16:59:31.369368Z",
     "start_time": "2021-11-25T16:59:31.252442Z"
    }
   },
   "outputs": [
    {
     "data": {
      "image/png": "[encoded data removed]",
      "text/plain": [
       "<Figure size 864x360 with 1 Axes>"
      ]
     },
     "metadata": {
      "needs_background": "light"
     },
     "output_type": "display_data"
    }
   ],
   "source": [
    "halves = pd.melt(halves)\n",
    "\n",
    "fig, ax = plt.subplots(figsize=(12, 5))\n",
    "ax = sns.countplot(x='value', hue='variable', data=halves, palette='Set2', edgecolor='black')\n",
    "ax.set_xlabel('Goals', fontsize=15);\n",
    "ax.set_ylabel('Count', fontsize=15);\n",
    "ax.set_title('First Half vs Second Half Goals', fontsize=20);\n",
    "\n",
    "plt.savefig('assets/FH-vs-SH-fig2.jpeg', bbox_inches='tight')"
   ]
  },
  {
   "cell_type": "markdown",
   "metadata": {},
   "source": [
    "- Morever, Poisson Distribution is a simple predictive model that doesn’t allow for numerous factors. Situational factors – such as club circumstances, game status etc. – and subjective evaluation of the change of each team during the transfer window are completely ignored."
   ]
  }
 ],
 "metadata": {
  "interpreter": {
   "hash": "c6e4e9f98eb68ad3b7c296f83d20e6de614cb42e90992a65aa266555a3137d0d"
  },
  "kernelspec": {
   "display_name": "Python 3 (ipykernel)",
   "language": "python",
   "name": "python3"
  },
  "language_info": {
   "codemirror_mode": {
    "name": "ipython",
    "version": 3
   },
   "file_extension": ".py",
   "mimetype": "text/x-python",
   "name": "python",
   "nbconvert_exporter": "python",
   "pygments_lexer": "ipython3",
   "version": "3.9.7"
  }
 },
 "nbformat": 4,
 "nbformat_minor": 2
}
